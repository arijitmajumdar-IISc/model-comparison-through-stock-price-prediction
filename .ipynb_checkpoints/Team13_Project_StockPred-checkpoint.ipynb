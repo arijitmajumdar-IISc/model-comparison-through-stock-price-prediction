{
 "cells": [
  {
   "cell_type": "markdown",
   "metadata": {
    "id": "tOEAN_DcWUDu"
   },
   "source": [
    "# **Installs and Imports**"
   ]
  },
  {
   "cell_type": "code",
   "execution_count": 1,
   "metadata": {
    "colab": {
     "base_uri": "https://localhost:8080/"
    },
    "id": "PLZao7kVxhqG",
    "outputId": "5b205977-e16b-4f1e-a057-48cae97470d2"
   },
   "outputs": [
    {
     "name": "stdout",
     "output_type": "stream",
     "text": [
      "Requirement already satisfied: fuzzywuzzy in c:\\users\\arijit_neha\\anaconda3\\lib\\site-packages (0.18.0)\n",
      "Requirement already satisfied: python-Levenshtein in c:\\users\\arijit_neha\\anaconda3\\lib\\site-packages (0.23.0)\n",
      "Requirement already satisfied: Levenshtein==0.23.0 in c:\\users\\arijit_neha\\anaconda3\\lib\\site-packages (from python-Levenshtein) (0.23.0)\n",
      "Requirement already satisfied: rapidfuzz<4.0.0,>=3.1.0 in c:\\users\\arijit_neha\\anaconda3\\lib\\site-packages (from Levenshtein==0.23.0->python-Levenshtein) (3.5.2)\n",
      "Requirement already satisfied: newspaper3k in c:\\users\\arijit_neha\\anaconda3\\lib\\site-packages (0.2.8)\n",
      "Requirement already satisfied: nltk in c:\\users\\arijit_neha\\anaconda3\\lib\\site-packages (3.7)\n",
      "Requirement already satisfied: requests>=2.10.0 in c:\\users\\arijit_neha\\anaconda3\\lib\\site-packages (from newspaper3k) (2.28.1)\n",
      "Requirement already satisfied: tldextract>=2.0.1 in c:\\users\\arijit_neha\\anaconda3\\lib\\site-packages (from newspaper3k) (3.2.0)\n",
      "Requirement already satisfied: beautifulsoup4>=4.4.1 in c:\\users\\arijit_neha\\anaconda3\\lib\\site-packages (from newspaper3k) (4.11.1)\n",
      "Requirement already satisfied: feedfinder2>=0.0.4 in c:\\users\\arijit_neha\\anaconda3\\lib\\site-packages (from newspaper3k) (0.0.4)\n",
      "Requirement already satisfied: tinysegmenter==0.3 in c:\\users\\arijit_neha\\anaconda3\\lib\\site-packages (from newspaper3k) (0.3)\n",
      "Requirement already satisfied: Pillow>=3.3.0 in c:\\users\\arijit_neha\\anaconda3\\lib\\site-packages (from newspaper3k) (9.4.0)\n",
      "Requirement already satisfied: jieba3k>=0.35.1 in c:\\users\\arijit_neha\\anaconda3\\lib\\site-packages (from newspaper3k) (0.35.1)\n",
      "Requirement already satisfied: feedparser>=5.2.1 in c:\\users\\arijit_neha\\anaconda3\\lib\\site-packages (from newspaper3k) (6.0.10)\n",
      "Requirement already satisfied: PyYAML>=3.11 in c:\\users\\arijit_neha\\anaconda3\\lib\\site-packages (from newspaper3k) (6.0)\n",
      "Requirement already satisfied: python-dateutil>=2.5.3 in c:\\users\\arijit_neha\\anaconda3\\lib\\site-packages (from newspaper3k) (2.8.2)\n",
      "Requirement already satisfied: lxml>=3.6.0 in c:\\users\\arijit_neha\\anaconda3\\lib\\site-packages (from newspaper3k) (4.9.1)\n",
      "Requirement already satisfied: cssselect>=0.9.2 in c:\\users\\arijit_neha\\anaconda3\\lib\\site-packages (from newspaper3k) (1.1.0)\n",
      "Requirement already satisfied: joblib in c:\\users\\arijit_neha\\anaconda3\\lib\\site-packages (from nltk) (1.1.1)\n",
      "Requirement already satisfied: tqdm in c:\\users\\arijit_neha\\anaconda3\\lib\\site-packages (from nltk) (4.64.1)\n",
      "Requirement already satisfied: regex>=2021.8.3 in c:\\users\\arijit_neha\\anaconda3\\lib\\site-packages (from nltk) (2022.7.9)\n",
      "Requirement already satisfied: click in c:\\users\\arijit_neha\\anaconda3\\lib\\site-packages (from nltk) (8.0.4)\n",
      "Requirement already satisfied: soupsieve>1.2 in c:\\users\\arijit_neha\\anaconda3\\lib\\site-packages (from beautifulsoup4>=4.4.1->newspaper3k) (2.3.2.post1)\n",
      "Requirement already satisfied: six in c:\\users\\arijit_neha\\anaconda3\\lib\\site-packages (from feedfinder2>=0.0.4->newspaper3k) (1.16.0)\n",
      "Requirement already satisfied: sgmllib3k in c:\\users\\arijit_neha\\anaconda3\\lib\\site-packages (from feedparser>=5.2.1->newspaper3k) (1.0.0)\n",
      "Requirement already satisfied: idna<4,>=2.5 in c:\\users\\arijit_neha\\anaconda3\\lib\\site-packages (from requests>=2.10.0->newspaper3k) (3.4)\n",
      "Requirement already satisfied: charset-normalizer<3,>=2 in c:\\users\\arijit_neha\\anaconda3\\lib\\site-packages (from requests>=2.10.0->newspaper3k) (2.0.4)\n",
      "Requirement already satisfied: urllib3<1.27,>=1.21.1 in c:\\users\\arijit_neha\\anaconda3\\lib\\site-packages (from requests>=2.10.0->newspaper3k) (1.26.14)\n",
      "Requirement already satisfied: certifi>=2017.4.17 in c:\\users\\arijit_neha\\anaconda3\\lib\\site-packages (from requests>=2.10.0->newspaper3k) (2023.7.22)\n",
      "Requirement already satisfied: filelock>=3.0.8 in c:\\users\\arijit_neha\\anaconda3\\lib\\site-packages (from tldextract>=2.0.1->newspaper3k) (3.9.0)\n",
      "Requirement already satisfied: requests-file>=1.4 in c:\\users\\arijit_neha\\anaconda3\\lib\\site-packages (from tldextract>=2.0.1->newspaper3k) (1.5.1)\n",
      "Requirement already satisfied: colorama in c:\\users\\arijit_neha\\anaconda3\\lib\\site-packages (from click->nltk) (0.4.6)\n",
      "Requirement already satisfied: googlesearch-python in c:\\users\\arijit_neha\\anaconda3\\lib\\site-packages (1.2.3)\n",
      "Requirement already satisfied: beautifulsoup4>=4.9 in c:\\users\\arijit_neha\\anaconda3\\lib\\site-packages (from googlesearch-python) (4.11.1)\n",
      "Requirement already satisfied: requests>=2.20 in c:\\users\\arijit_neha\\anaconda3\\lib\\site-packages (from googlesearch-python) (2.28.1)\n",
      "Requirement already satisfied: soupsieve>1.2 in c:\\users\\arijit_neha\\anaconda3\\lib\\site-packages (from beautifulsoup4>=4.9->googlesearch-python) (2.3.2.post1)\n",
      "Requirement already satisfied: certifi>=2017.4.17 in c:\\users\\arijit_neha\\anaconda3\\lib\\site-packages (from requests>=2.20->googlesearch-python) (2023.7.22)\n",
      "Requirement already satisfied: charset-normalizer<3,>=2 in c:\\users\\arijit_neha\\anaconda3\\lib\\site-packages (from requests>=2.20->googlesearch-python) (2.0.4)\n",
      "Requirement already satisfied: urllib3<1.27,>=1.21.1 in c:\\users\\arijit_neha\\anaconda3\\lib\\site-packages (from requests>=2.20->googlesearch-python) (1.26.14)\n",
      "Requirement already satisfied: idna<4,>=2.5 in c:\\users\\arijit_neha\\anaconda3\\lib\\site-packages (from requests>=2.20->googlesearch-python) (3.4)\n",
      "Requirement already satisfied: pmdarima in c:\\users\\arijit_neha\\anaconda3\\lib\\site-packages (2.0.4)\n",
      "Requirement already satisfied: scikit-learn>=0.22 in c:\\users\\arijit_neha\\anaconda3\\lib\\site-packages (from pmdarima) (1.3.2)\n",
      "Requirement already satisfied: scipy>=1.3.2 in c:\\users\\arijit_neha\\anaconda3\\lib\\site-packages (from pmdarima) (1.11.3)\n",
      "Requirement already satisfied: Cython!=0.29.18,!=0.29.31,>=0.29 in c:\\users\\arijit_neha\\anaconda3\\lib\\site-packages (from pmdarima) (3.0.5)\n",
      "Requirement already satisfied: urllib3 in c:\\users\\arijit_neha\\anaconda3\\lib\\site-packages (from pmdarima) (1.26.14)\n",
      "Requirement already satisfied: statsmodels>=0.13.2 in c:\\users\\arijit_neha\\anaconda3\\lib\\site-packages (from pmdarima) (0.13.5)\n",
      "Requirement already satisfied: packaging>=17.1 in c:\\users\\arijit_neha\\anaconda3\\lib\\site-packages (from pmdarima) (22.0)\n",
      "Requirement already satisfied: joblib>=0.11 in c:\\users\\arijit_neha\\anaconda3\\lib\\site-packages (from pmdarima) (1.1.1)\n",
      "Requirement already satisfied: pandas>=0.19 in c:\\users\\arijit_neha\\anaconda3\\lib\\site-packages (from pmdarima) (2.1.3)\n",
      "Requirement already satisfied: numpy>=1.21.2 in c:\\users\\arijit_neha\\anaconda3\\lib\\site-packages (from pmdarima) (1.26.1)\n",
      "Requirement already satisfied: setuptools!=50.0.0,>=38.6.0 in c:\\users\\arijit_neha\\anaconda3\\lib\\site-packages (from pmdarima) (65.6.3)\n",
      "Requirement already satisfied: pytz>=2020.1 in c:\\users\\arijit_neha\\anaconda3\\lib\\site-packages (from pandas>=0.19->pmdarima) (2022.7)\n",
      "Requirement already satisfied: tzdata>=2022.1 in c:\\users\\arijit_neha\\anaconda3\\lib\\site-packages (from pandas>=0.19->pmdarima) (2023.3)\n",
      "Requirement already satisfied: python-dateutil>=2.8.2 in c:\\users\\arijit_neha\\anaconda3\\lib\\site-packages (from pandas>=0.19->pmdarima) (2.8.2)\n",
      "Requirement already satisfied: threadpoolctl>=2.0.0 in c:\\users\\arijit_neha\\anaconda3\\lib\\site-packages (from scikit-learn>=0.22->pmdarima) (2.2.0)\n",
      "Requirement already satisfied: patsy>=0.5.2 in c:\\users\\arijit_neha\\anaconda3\\lib\\site-packages (from statsmodels>=0.13.2->pmdarima) (0.5.3)\n",
      "Requirement already satisfied: six in c:\\users\\arijit_neha\\anaconda3\\lib\\site-packages (from patsy>=0.5.2->statsmodels>=0.13.2->pmdarima) (1.16.0)\n",
      "Requirement already satisfied: missingno in c:\\users\\arijit_neha\\anaconda3\\lib\\site-packages (0.5.2)\n",
      "Requirement already satisfied: numpy in c:\\users\\arijit_neha\\anaconda3\\lib\\site-packages (from missingno) (1.26.1)\n",
      "Requirement already satisfied: seaborn in c:\\users\\arijit_neha\\anaconda3\\lib\\site-packages (from missingno) (0.12.2)\n",
      "Requirement already satisfied: scipy in c:\\users\\arijit_neha\\anaconda3\\lib\\site-packages (from missingno) (1.11.3)\n",
      "Requirement already satisfied: matplotlib in c:\\users\\arijit_neha\\anaconda3\\lib\\site-packages (from missingno) (3.8.1)\n",
      "Requirement already satisfied: pillow>=8 in c:\\users\\arijit_neha\\anaconda3\\lib\\site-packages (from matplotlib->missingno) (9.4.0)\n",
      "Requirement already satisfied: kiwisolver>=1.3.1 in c:\\users\\arijit_neha\\anaconda3\\lib\\site-packages (from matplotlib->missingno) (1.4.4)\n",
      "Requirement already satisfied: cycler>=0.10 in c:\\users\\arijit_neha\\anaconda3\\lib\\site-packages (from matplotlib->missingno) (0.11.0)\n",
      "Requirement already satisfied: contourpy>=1.0.1 in c:\\users\\arijit_neha\\anaconda3\\lib\\site-packages (from matplotlib->missingno) (1.0.5)\n",
      "Requirement already satisfied: fonttools>=4.22.0 in c:\\users\\arijit_neha\\anaconda3\\lib\\site-packages (from matplotlib->missingno) (4.25.0)\n",
      "Requirement already satisfied: python-dateutil>=2.7 in c:\\users\\arijit_neha\\anaconda3\\lib\\site-packages (from matplotlib->missingno) (2.8.2)\n",
      "Requirement already satisfied: pyparsing>=2.3.1 in c:\\users\\arijit_neha\\anaconda3\\lib\\site-packages (from matplotlib->missingno) (3.0.9)\n",
      "Requirement already satisfied: packaging>=20.0 in c:\\users\\arijit_neha\\anaconda3\\lib\\site-packages (from matplotlib->missingno) (22.0)\n",
      "Requirement already satisfied: pandas>=0.25 in c:\\users\\arijit_neha\\anaconda3\\lib\\site-packages (from seaborn->missingno) (2.1.3)\n",
      "Requirement already satisfied: tzdata>=2022.1 in c:\\users\\arijit_neha\\anaconda3\\lib\\site-packages (from pandas>=0.25->seaborn->missingno) (2023.3)\n",
      "Requirement already satisfied: pytz>=2020.1 in c:\\users\\arijit_neha\\anaconda3\\lib\\site-packages (from pandas>=0.25->seaborn->missingno) (2022.7)\n",
      "Requirement already satisfied: six>=1.5 in c:\\users\\arijit_neha\\anaconda3\\lib\\site-packages (from python-dateutil>=2.7->matplotlib->missingno) (1.16.0)\n"
     ]
    },
    {
     "name": "stdout",
     "output_type": "stream",
     "text": [
      "Requirement already satisfied: xgboost in c:\\users\\arijit_neha\\anaconda3\\lib\\site-packages (2.0.2)\n",
      "Requirement already satisfied: scipy in c:\\users\\arijit_neha\\anaconda3\\lib\\site-packages (from xgboost) (1.11.3)\n",
      "Requirement already satisfied: numpy in c:\\users\\arijit_neha\\anaconda3\\lib\\site-packages (from xgboost) (1.26.1)\n",
      "Requirement already satisfied: tensorflow in c:\\users\\arijit_neha\\anaconda3\\lib\\site-packages (2.15.0)\n",
      "Requirement already satisfied: tensorflow-intel==2.15.0 in c:\\users\\arijit_neha\\anaconda3\\lib\\site-packages (from tensorflow) (2.15.0)\n",
      "Requirement already satisfied: flatbuffers>=23.5.26 in c:\\users\\arijit_neha\\anaconda3\\lib\\site-packages (from tensorflow-intel==2.15.0->tensorflow) (23.5.26)\n",
      "Requirement already satisfied: packaging in c:\\users\\arijit_neha\\anaconda3\\lib\\site-packages (from tensorflow-intel==2.15.0->tensorflow) (22.0)\n",
      "Requirement already satisfied: typing-extensions>=3.6.6 in c:\\users\\arijit_neha\\anaconda3\\lib\\site-packages (from tensorflow-intel==2.15.0->tensorflow) (4.4.0)\n",
      "Requirement already satisfied: tensorboard<2.16,>=2.15 in c:\\users\\arijit_neha\\anaconda3\\lib\\site-packages (from tensorflow-intel==2.15.0->tensorflow) (2.15.1)\n",
      "Requirement already satisfied: keras<2.16,>=2.15.0 in c:\\users\\arijit_neha\\anaconda3\\lib\\site-packages (from tensorflow-intel==2.15.0->tensorflow) (2.15.0)\n",
      "Requirement already satisfied: termcolor>=1.1.0 in c:\\users\\arijit_neha\\anaconda3\\lib\\site-packages (from tensorflow-intel==2.15.0->tensorflow) (2.3.0)\n",
      "Requirement already satisfied: libclang>=13.0.0 in c:\\users\\arijit_neha\\anaconda3\\lib\\site-packages (from tensorflow-intel==2.15.0->tensorflow) (16.0.6)\n",
      "Requirement already satisfied: tensorflow-estimator<2.16,>=2.15.0 in c:\\users\\arijit_neha\\anaconda3\\lib\\site-packages (from tensorflow-intel==2.15.0->tensorflow) (2.15.0)\n",
      "Requirement already satisfied: numpy<2.0.0,>=1.23.5 in c:\\users\\arijit_neha\\anaconda3\\lib\\site-packages (from tensorflow-intel==2.15.0->tensorflow) (1.26.1)\n",
      "Requirement already satisfied: h5py>=2.9.0 in c:\\users\\arijit_neha\\anaconda3\\lib\\site-packages (from tensorflow-intel==2.15.0->tensorflow) (3.7.0)\n",
      "Requirement already satisfied: grpcio<2.0,>=1.24.3 in c:\\users\\arijit_neha\\anaconda3\\lib\\site-packages (from tensorflow-intel==2.15.0->tensorflow) (1.59.3)\n",
      "Requirement already satisfied: setuptools in c:\\users\\arijit_neha\\anaconda3\\lib\\site-packages (from tensorflow-intel==2.15.0->tensorflow) (65.6.3)\n",
      "Requirement already satisfied: tensorflow-io-gcs-filesystem>=0.23.1 in c:\\users\\arijit_neha\\anaconda3\\lib\\site-packages (from tensorflow-intel==2.15.0->tensorflow) (0.31.0)\n",
      "Requirement already satisfied: gast!=0.5.0,!=0.5.1,!=0.5.2,>=0.2.1 in c:\\users\\arijit_neha\\anaconda3\\lib\\site-packages (from tensorflow-intel==2.15.0->tensorflow) (0.5.4)\n",
      "Requirement already satisfied: ml-dtypes~=0.2.0 in c:\\users\\arijit_neha\\anaconda3\\lib\\site-packages (from tensorflow-intel==2.15.0->tensorflow) (0.2.0)\n",
      "Requirement already satisfied: opt-einsum>=2.3.2 in c:\\users\\arijit_neha\\anaconda3\\lib\\site-packages (from tensorflow-intel==2.15.0->tensorflow) (3.3.0)\n",
      "Requirement already satisfied: google-pasta>=0.1.1 in c:\\users\\arijit_neha\\anaconda3\\lib\\site-packages (from tensorflow-intel==2.15.0->tensorflow) (0.2.0)\n",
      "Requirement already satisfied: absl-py>=1.0.0 in c:\\users\\arijit_neha\\anaconda3\\lib\\site-packages (from tensorflow-intel==2.15.0->tensorflow) (2.0.0)\n",
      "Requirement already satisfied: wrapt<1.15,>=1.11.0 in c:\\users\\arijit_neha\\anaconda3\\lib\\site-packages (from tensorflow-intel==2.15.0->tensorflow) (1.14.1)\n",
      "Requirement already satisfied: protobuf!=4.21.0,!=4.21.1,!=4.21.2,!=4.21.3,!=4.21.4,!=4.21.5,<5.0.0dev,>=3.20.3 in c:\\users\\arijit_neha\\anaconda3\\lib\\site-packages (from tensorflow-intel==2.15.0->tensorflow) (4.23.4)\n",
      "Requirement already satisfied: astunparse>=1.6.0 in c:\\users\\arijit_neha\\anaconda3\\lib\\site-packages (from tensorflow-intel==2.15.0->tensorflow) (1.6.3)\n",
      "Requirement already satisfied: six>=1.12.0 in c:\\users\\arijit_neha\\anaconda3\\lib\\site-packages (from tensorflow-intel==2.15.0->tensorflow) (1.16.0)\n",
      "Requirement already satisfied: wheel<1.0,>=0.23.0 in c:\\users\\arijit_neha\\anaconda3\\lib\\site-packages (from astunparse>=1.6.0->tensorflow-intel==2.15.0->tensorflow) (0.38.4)\n",
      "Requirement already satisfied: google-auth<3,>=1.6.3 in c:\\users\\arijit_neha\\anaconda3\\lib\\site-packages (from tensorboard<2.16,>=2.15->tensorflow-intel==2.15.0->tensorflow) (2.23.4)\n",
      "Requirement already satisfied: requests<3,>=2.21.0 in c:\\users\\arijit_neha\\anaconda3\\lib\\site-packages (from tensorboard<2.16,>=2.15->tensorflow-intel==2.15.0->tensorflow) (2.28.1)\n",
      "Requirement already satisfied: tensorboard-data-server<0.8.0,>=0.7.0 in c:\\users\\arijit_neha\\anaconda3\\lib\\site-packages (from tensorboard<2.16,>=2.15->tensorflow-intel==2.15.0->tensorflow) (0.7.2)\n",
      "Requirement already satisfied: google-auth-oauthlib<2,>=0.5 in c:\\users\\arijit_neha\\anaconda3\\lib\\site-packages (from tensorboard<2.16,>=2.15->tensorflow-intel==2.15.0->tensorflow) (1.1.0)\n",
      "Requirement already satisfied: werkzeug>=1.0.1 in c:\\users\\arijit_neha\\anaconda3\\lib\\site-packages (from tensorboard<2.16,>=2.15->tensorflow-intel==2.15.0->tensorflow) (2.2.2)\n",
      "Requirement already satisfied: markdown>=2.6.8 in c:\\users\\arijit_neha\\anaconda3\\lib\\site-packages (from tensorboard<2.16,>=2.15->tensorflow-intel==2.15.0->tensorflow) (3.4.1)\n",
      "Requirement already satisfied: cachetools<6.0,>=2.0.0 in c:\\users\\arijit_neha\\anaconda3\\lib\\site-packages (from google-auth<3,>=1.6.3->tensorboard<2.16,>=2.15->tensorflow-intel==2.15.0->tensorflow) (5.3.2)\n",
      "Requirement already satisfied: pyasn1-modules>=0.2.1 in c:\\users\\arijit_neha\\anaconda3\\lib\\site-packages (from google-auth<3,>=1.6.3->tensorboard<2.16,>=2.15->tensorflow-intel==2.15.0->tensorflow) (0.2.8)\n",
      "Requirement already satisfied: rsa<5,>=3.1.4 in c:\\users\\arijit_neha\\anaconda3\\lib\\site-packages (from google-auth<3,>=1.6.3->tensorboard<2.16,>=2.15->tensorflow-intel==2.15.0->tensorflow) (4.9)\n",
      "Requirement already satisfied: requests-oauthlib>=0.7.0 in c:\\users\\arijit_neha\\anaconda3\\lib\\site-packages (from google-auth-oauthlib<2,>=0.5->tensorboard<2.16,>=2.15->tensorflow-intel==2.15.0->tensorflow) (1.3.1)\n",
      "Requirement already satisfied: charset-normalizer<3,>=2 in c:\\users\\arijit_neha\\anaconda3\\lib\\site-packages (from requests<3,>=2.21.0->tensorboard<2.16,>=2.15->tensorflow-intel==2.15.0->tensorflow) (2.0.4)\n",
      "Requirement already satisfied: urllib3<1.27,>=1.21.1 in c:\\users\\arijit_neha\\anaconda3\\lib\\site-packages (from requests<3,>=2.21.0->tensorboard<2.16,>=2.15->tensorflow-intel==2.15.0->tensorflow) (1.26.14)\n",
      "Requirement already satisfied: idna<4,>=2.5 in c:\\users\\arijit_neha\\anaconda3\\lib\\site-packages (from requests<3,>=2.21.0->tensorboard<2.16,>=2.15->tensorflow-intel==2.15.0->tensorflow) (3.4)\n",
      "Requirement already satisfied: certifi>=2017.4.17 in c:\\users\\arijit_neha\\anaconda3\\lib\\site-packages (from requests<3,>=2.21.0->tensorboard<2.16,>=2.15->tensorflow-intel==2.15.0->tensorflow) (2023.7.22)\n",
      "Requirement already satisfied: MarkupSafe>=2.1.1 in c:\\users\\arijit_neha\\anaconda3\\lib\\site-packages (from werkzeug>=1.0.1->tensorboard<2.16,>=2.15->tensorflow-intel==2.15.0->tensorflow) (2.1.1)\n",
      "Requirement already satisfied: pyasn1<0.5.0,>=0.4.6 in c:\\users\\arijit_neha\\anaconda3\\lib\\site-packages (from pyasn1-modules>=0.2.1->google-auth<3,>=1.6.3->tensorboard<2.16,>=2.15->tensorflow-intel==2.15.0->tensorflow) (0.4.8)\n",
      "Requirement already satisfied: oauthlib>=3.0.0 in c:\\users\\arijit_neha\\anaconda3\\lib\\site-packages (from requests-oauthlib>=0.7.0->google-auth-oauthlib<2,>=0.5->tensorboard<2.16,>=2.15->tensorflow-intel==2.15.0->tensorflow) (3.2.2)\n"
     ]
    }
   ],
   "source": [
    "!pip install fuzzywuzzy\n",
    "!pip install python-Levenshtein\n",
    "!pip install newspaper3k nltk\n",
    "!pip install googlesearch-python\n",
    "!pip install pmdarima\n",
    "!pip install missingno\n",
    "!pip install xgboost\n",
    "!pip install tensorflow\n"
   ]
  },
  {
   "cell_type": "code",
   "execution_count": 2,
   "metadata": {
    "colab": {
     "base_uri": "https://localhost:8080/"
    },
    "id": "vFn9XJ9If1vT",
    "outputId": "be264edb-eb48-4375-a1de-ccf6c7c7fd05"
   },
   "outputs": [
    {
     "name": "stdout",
     "output_type": "stream",
     "text": [
      "WARNING:tensorflow:From C:\\Users\\arijit_neha\\anaconda3\\lib\\site-packages\\keras\\src\\losses.py:2976: The name tf.losses.sparse_softmax_cross_entropy is deprecated. Please use tf.compat.v1.losses.sparse_softmax_cross_entropy instead.\n",
      "\n"
     ]
    },
    {
     "name": "stderr",
     "output_type": "stream",
     "text": [
      "[nltk_data] Downloading package vader_lexicon to\n",
      "[nltk_data]     C:\\Users\\arijit_neha\\AppData\\Roaming\\nltk_data...\n",
      "[nltk_data]   Package vader_lexicon is already up-to-date!\n"
     ]
    },
    {
     "data": {
      "text/plain": [
       "True"
      ]
     },
     "execution_count": 2,
     "metadata": {},
     "output_type": "execute_result"
    }
   ],
   "source": [
    "# Importing necessary modules\n",
    "import os\n",
    "import pandas as pd\n",
    "import numpy as np\n",
    "import matplotlib.pyplot as plt\n",
    "import matplotlib.dates as mdates\n",
    "\n",
    "import seaborn as sns\n",
    "import missingno as msno\n",
    "\n",
    "import pylab\n",
    "from pylab import rcParams\n",
    "\n",
    "import statsmodels.api as sm\n",
    "from pmdarima import auto_arima\n",
    "from statsmodels.tsa.arima_model import ARIMA\n",
    "from statsmodels.graphics.tsaplots import plot_acf, plot_pacf\n",
    "from statsmodels.tsa.arima.model import ARIMA\n",
    "from statsmodels.tsa.statespace.sarimax import SARIMAX\n",
    "from statsmodels.tsa.stattools import adfuller\n",
    "from statsmodels.tsa.seasonal import seasonal_decompose\n",
    "import scipy.stats\n",
    "\n",
    "\n",
    "from sklearn import metrics\n",
    "from sklearn.base import BaseEstimator, TransformerMixin\n",
    "from sklearn.compose import ColumnTransformer\n",
    "from sklearn.ensemble import RandomForestRegressor\n",
    "from sklearn.feature_selection import RFECV, SelectFromModel, SelectKBest\n",
    "from sklearn.impute import SimpleImputer\n",
    "from sklearn.linear_model import LinearRegression\n",
    "from sklearn.metrics import mean_absolute_error, mean_squared_error\n",
    "\n",
    "from sklearn.model_selection import RandomizedSearchCV\n",
    "from sklearn.model_selection import cross_val_score, train_test_split, GridSearchCV\n",
    "from sklearn.model_selection import GridSearchCV\n",
    "from sklearn.model_selection import StratifiedShuffleSplit\n",
    "from sklearn.model_selection import train_test_split\n",
    "from sklearn.pipeline import FeatureUnion\n",
    "from sklearn.pipeline import Pipeline\n",
    "from sklearn.preprocessing import OneHotEncoder\n",
    "from sklearn.preprocessing import StandardScaler\n",
    "\n",
    "%matplotlib inline\n",
    "import time\n",
    "import nltk\n",
    "import requests\n",
    "from bs4 import BeautifulSoup\n",
    "from nltk.sentiment import SentimentIntensityAnalyzer\n",
    "\n",
    "from fuzzywuzzy import fuzz\n",
    "from newspaper import Article, ArticleException\n",
    "from googlesearch import search\n",
    "import xgboost as xgb\n",
    "from tensorflow.keras.models import Sequential\n",
    "from tensorflow.keras.layers import Dense\n",
    "\n",
    "import plotly.express as px\n",
    "import plotly.graph_objects as go\n",
    "\n",
    "\n",
    "\n",
    "import warnings\n",
    "warnings.filterwarnings('ignore')\n",
    "nltk.download('vader_lexicon')"
   ]
  },
  {
   "cell_type": "markdown",
   "metadata": {
    "id": "Q9NYGnBMGhf_"
   },
   "source": [
    "# **Get the data**"
   ]
  },
  {
   "cell_type": "code",
   "execution_count": 3,
   "metadata": {
    "id": "qcx7Z5wfgNfN"
   },
   "outputs": [],
   "source": [
    "# Set dataset variables\n",
    "stock = \"NIFTY_Infy\"\n",
    "sector = \"Nifty_sector\"\n",
    "fii = \"FII\"\n",
    "dii = \"DII\"\n",
    "STOCK_PATH = f\"files/{stock}.csv\" \n",
    "SECTOR_PATH = f\"files/{sector}.csv\"\n",
    "FII_PATH = f\"files/{fii}.csv\"\n",
    "DII_PATH = f\"files/{dii}.csv\"\n",
    "\n",
    "def load_stock_data(file_path = STOCK_PATH):\n",
    "  \"\"\" This function Creates a pandas dataframe from given stock CSV dataset \"\"\"\n",
    "  df = pd.read_csv(file_path)\n",
    "  df['Date'] = pd.to_datetime(df['Date'], format='%d-%m-%Y')\n",
    "  df = df.set_index('Date')\n",
    "  return df\n",
    "\n",
    "def load_sector_data(file_path = SECTOR_PATH):\n",
    "  \"\"\" This function Creates a pandas dataframe from given sector CSV dataset \"\"\"\n",
    "  df = pd.read_csv(file_path)\n",
    "  return df\n",
    "\n",
    "def load_fii_data(file_path = FII_PATH):\n",
    "  \"\"\" This function Creates a pandas dataframe from given fii CSV dataset \"\"\"\n",
    "  df = pd.read_csv(file_path)\n",
    "  return df\n",
    "\n",
    "def load_dii_data(file_path = DII_PATH):\n",
    "  \"\"\" This function Creates a pandas dataframe from given dii CSV dataset \"\"\"\n",
    "  df = pd.read_csv(file_path)\n",
    "  return df\n"
   ]
  },
  {
   "cell_type": "code",
   "execution_count": 4,
   "metadata": {
    "colab": {
     "base_uri": "https://localhost:8080/",
     "height": 341
    },
    "id": "9dGFsPgsgcKZ",
    "outputId": "b058a80e-6aa2-4daa-b225-a65f4cd84a03"
   },
   "outputs": [
    {
     "data": {
      "text/html": [
       "<div>\n",
       "<style scoped>\n",
       "    .dataframe tbody tr th:only-of-type {\n",
       "        vertical-align: middle;\n",
       "    }\n",
       "\n",
       "    .dataframe tbody tr th {\n",
       "        vertical-align: top;\n",
       "    }\n",
       "\n",
       "    .dataframe thead th {\n",
       "        text-align: right;\n",
       "    }\n",
       "</style>\n",
       "<table border=\"1\" class=\"dataframe\">\n",
       "  <thead>\n",
       "    <tr style=\"text-align: right;\">\n",
       "      <th></th>\n",
       "      <th>Symbol</th>\n",
       "      <th>Series</th>\n",
       "      <th>Prev Close</th>\n",
       "      <th>Open</th>\n",
       "      <th>High</th>\n",
       "      <th>Low</th>\n",
       "      <th>Last</th>\n",
       "      <th>Close</th>\n",
       "      <th>VWAP</th>\n",
       "      <th>Volume</th>\n",
       "      <th>Turnover</th>\n",
       "      <th>Trades</th>\n",
       "      <th>Deliverable Volume</th>\n",
       "      <th>%Deliverble</th>\n",
       "    </tr>\n",
       "    <tr>\n",
       "      <th>Date</th>\n",
       "      <th></th>\n",
       "      <th></th>\n",
       "      <th></th>\n",
       "      <th></th>\n",
       "      <th></th>\n",
       "      <th></th>\n",
       "      <th></th>\n",
       "      <th></th>\n",
       "      <th></th>\n",
       "      <th></th>\n",
       "      <th></th>\n",
       "      <th></th>\n",
       "      <th></th>\n",
       "      <th></th>\n",
       "    </tr>\n",
       "  </thead>\n",
       "  <tbody>\n",
       "    <tr>\n",
       "      <th>2021-04-26</th>\n",
       "      <td>UPL</td>\n",
       "      <td>EQ</td>\n",
       "      <td>585.40</td>\n",
       "      <td>587.10</td>\n",
       "      <td>597.9</td>\n",
       "      <td>585.90</td>\n",
       "      <td>590.6</td>\n",
       "      <td>590.65</td>\n",
       "      <td>591.78</td>\n",
       "      <td>3162291</td>\n",
       "      <td>1.870000e+14</td>\n",
       "      <td>46535</td>\n",
       "      <td>431594</td>\n",
       "      <td>0.1365</td>\n",
       "    </tr>\n",
       "    <tr>\n",
       "      <th>2021-04-27</th>\n",
       "      <td>UPL</td>\n",
       "      <td>EQ</td>\n",
       "      <td>590.65</td>\n",
       "      <td>591.10</td>\n",
       "      <td>605.2</td>\n",
       "      <td>589.40</td>\n",
       "      <td>597.0</td>\n",
       "      <td>597.45</td>\n",
       "      <td>598.49</td>\n",
       "      <td>4496811</td>\n",
       "      <td>2.690000e+14</td>\n",
       "      <td>104264</td>\n",
       "      <td>1256338</td>\n",
       "      <td>0.2794</td>\n",
       "    </tr>\n",
       "    <tr>\n",
       "      <th>2021-04-28</th>\n",
       "      <td>UPL</td>\n",
       "      <td>EQ</td>\n",
       "      <td>597.45</td>\n",
       "      <td>602.95</td>\n",
       "      <td>613.7</td>\n",
       "      <td>601.20</td>\n",
       "      <td>607.5</td>\n",
       "      <td>608.05</td>\n",
       "      <td>608.90</td>\n",
       "      <td>4983043</td>\n",
       "      <td>3.030000e+14</td>\n",
       "      <td>65061</td>\n",
       "      <td>937294</td>\n",
       "      <td>0.1881</td>\n",
       "    </tr>\n",
       "    <tr>\n",
       "      <th>2021-04-29</th>\n",
       "      <td>UPL</td>\n",
       "      <td>EQ</td>\n",
       "      <td>608.05</td>\n",
       "      <td>613.40</td>\n",
       "      <td>621.0</td>\n",
       "      <td>609.80</td>\n",
       "      <td>616.5</td>\n",
       "      <td>615.80</td>\n",
       "      <td>615.23</td>\n",
       "      <td>6257014</td>\n",
       "      <td>3.850000e+14</td>\n",
       "      <td>74611</td>\n",
       "      <td>1420467</td>\n",
       "      <td>0.2270</td>\n",
       "    </tr>\n",
       "    <tr>\n",
       "      <th>2021-04-30</th>\n",
       "      <td>UPL</td>\n",
       "      <td>EQ</td>\n",
       "      <td>615.80</td>\n",
       "      <td>610.80</td>\n",
       "      <td>621.0</td>\n",
       "      <td>604.05</td>\n",
       "      <td>606.0</td>\n",
       "      <td>606.90</td>\n",
       "      <td>613.09</td>\n",
       "      <td>3072295</td>\n",
       "      <td>1.880000e+14</td>\n",
       "      <td>42385</td>\n",
       "      <td>664774</td>\n",
       "      <td>0.2164</td>\n",
       "    </tr>\n",
       "  </tbody>\n",
       "</table>\n",
       "</div>"
      ],
      "text/plain": [
       "           Symbol Series  Prev Close    Open   High     Low   Last   Close  \\\n",
       "Date                                                                         \n",
       "2021-04-26    UPL     EQ      585.40  587.10  597.9  585.90  590.6  590.65   \n",
       "2021-04-27    UPL     EQ      590.65  591.10  605.2  589.40  597.0  597.45   \n",
       "2021-04-28    UPL     EQ      597.45  602.95  613.7  601.20  607.5  608.05   \n",
       "2021-04-29    UPL     EQ      608.05  613.40  621.0  609.80  616.5  615.80   \n",
       "2021-04-30    UPL     EQ      615.80  610.80  621.0  604.05  606.0  606.90   \n",
       "\n",
       "              VWAP   Volume      Turnover  Trades  Deliverable Volume  \\\n",
       "Date                                                                    \n",
       "2021-04-26  591.78  3162291  1.870000e+14   46535              431594   \n",
       "2021-04-27  598.49  4496811  2.690000e+14  104264             1256338   \n",
       "2021-04-28  608.90  4983043  3.030000e+14   65061              937294   \n",
       "2021-04-29  615.23  6257014  3.850000e+14   74611             1420467   \n",
       "2021-04-30  613.09  3072295  1.880000e+14   42385              664774   \n",
       "\n",
       "            %Deliverble  \n",
       "Date                     \n",
       "2021-04-26       0.1365  \n",
       "2021-04-27       0.2794  \n",
       "2021-04-28       0.1881  \n",
       "2021-04-29       0.2270  \n",
       "2021-04-30       0.2164  "
      ]
     },
     "execution_count": 4,
     "metadata": {},
     "output_type": "execute_result"
    }
   ],
   "source": [
    "# Run the function load_stock_data and take a quick look on the DataFrame\n",
    "df_stock_raw = load_stock_data()\n",
    "df_stock_raw.tail(5)\n"
   ]
  },
  {
   "cell_type": "code",
   "execution_count": 5,
   "metadata": {
    "colab": {
     "base_uri": "https://localhost:8080/"
    },
    "id": "5ZdMieKnIGOa",
    "outputId": "8903c995-7952-43f2-d392-b1413144b9ab"
   },
   "outputs": [
    {
     "name": "stdout",
     "output_type": "stream",
     "text": [
      "Multiple categories of Symbol field in stock dataframe: \n"
     ]
    },
    {
     "data": {
      "text/plain": [
       "Symbol\n",
       "ADANIPORTS    577\n",
       "BHARTIARTL    577\n",
       "DRREDDY       577\n",
       "EICHERMOT     577\n",
       "HDFCBANK      577\n",
       "INFY          577\n",
       "ITC           577\n",
       "NTPC          577\n",
       "ONGC          577\n",
       "TATASTEEL     577\n",
       "TITAN         577\n",
       "ULTRACEMCO    577\n",
       "UPL           577\n",
       "Name: count, dtype: int64"
      ]
     },
     "execution_count": 5,
     "metadata": {},
     "output_type": "execute_result"
    }
   ],
   "source": [
    "# Finding all categories Symbol is holding in stock dataframe\n",
    "print(\"Multiple categories of Symbol field in stock dataframe: \")\n",
    "df_stock_raw[\"Symbol\"].value_counts()"
   ]
  },
  {
   "cell_type": "code",
   "execution_count": 6,
   "metadata": {
    "colab": {
     "base_uri": "https://localhost:8080/"
    },
    "id": "Eu3hIDMtTtqZ",
    "outputId": "9c2a50f5-5a03-4f98-b21a-d17b4d0577ae"
   },
   "outputs": [
    {
     "name": "stdout",
     "output_type": "stream",
     "text": [
      "                               Company      Symbol                Industry\n",
      "0                 HDFC Bank (HDFCBANK)    HDFCBANK      Financial Services\n",
      "1                       Infosys (INFY)        INFY  Information Technology\n",
      "2                            ITC (ITC)         ITC                    FMCG\n",
      "3           Bharti Airtel (BHARTIARTL)  BHARTIARTL       Telecommunication\n",
      "4                Titan Company (TITAN)       TITAN       Consumer Durables\n",
      "5               Tata Steel (TATASTEEL)   TATASTEEL         Metals & Mining\n",
      "6        UltraTech Cement (ULTRACEMCO)  ULTRACEMCO  Construction Materials\n",
      "7                          NTPC (NTPC)        NTPC                   Power\n",
      "8     Adani Ports and SEZ (ADANIPORTS)  ADANIPORTS                Services\n",
      "9       Oil & Natural Gas Corp. (ONGC)        ONGC               Oil & Gas\n",
      "10  Dr. Reddy's Laboratories (DRREDDY)     DRREDDY              Healthcare\n",
      "11           Eicher Motors (EICHERMOT)   EICHERMOT              Automobile\n",
      "12                           UPL (UPL)         UPL               Chemicals\n"
     ]
    }
   ],
   "source": [
    "# Run the function load_sector_data and take a quick look on the DataFrame\n",
    "df_sector = load_sector_data()\n",
    "print(df_sector.head(50))\n",
    "\n",
    "# Filtering one Company out of this list\n",
    "df_stock_raw_temp = df_stock_raw.reset_index()\n",
    "# df_stock_raw_temp = df_stock_raw_temp.query('Symbol== \"INFY\"')\n",
    "\n",
    "df_sector = df_sector.query(\"Symbol =='INFY'\")\n",
    "df_stock_raw_temp = df_stock_raw_temp.query('Symbol== \"INFY\"')"
   ]
  },
  {
   "cell_type": "code",
   "execution_count": 7,
   "metadata": {},
   "outputs": [],
   "source": [
    "# Load FII data and create dataframe through load_fii_data() function\n",
    "df_fii = load_fii_data()\n",
    "\n",
    "#Load DII data and create dataframe through load_dii_data() function\n",
    "df_dii = load_dii_data()"
   ]
  },
  {
   "cell_type": "markdown",
   "metadata": {
    "id": "nPKGZqFEW98l"
   },
   "source": [
    "# **Data Discovery, EDA , FE**"
   ]
  },
  {
   "cell_type": "code",
   "execution_count": 8,
   "metadata": {
    "colab": {
     "base_uri": "https://localhost:8080/"
    },
    "id": "y0tyrPWRiUTv",
    "outputId": "331fca12-4d2e-47bb-cd2e-f1bde81ed287"
   },
   "outputs": [
    {
     "name": "stdout",
     "output_type": "stream",
     "text": [
      "<class 'pandas.core.frame.DataFrame'>\n",
      "DatetimeIndex: 7501 entries, 2019-01-01 to 2021-04-30\n",
      "Data columns (total 14 columns):\n",
      " #   Column              Non-Null Count  Dtype  \n",
      "---  ------              --------------  -----  \n",
      " 0   Symbol              7501 non-null   object \n",
      " 1   Series              7501 non-null   object \n",
      " 2   Prev Close          7501 non-null   float64\n",
      " 3   Open                7501 non-null   float64\n",
      " 4   High                7501 non-null   float64\n",
      " 5   Low                 7501 non-null   float64\n",
      " 6   Last                7501 non-null   float64\n",
      " 7   Close               7501 non-null   float64\n",
      " 8   VWAP                7501 non-null   float64\n",
      " 9   Volume              7501 non-null   int64  \n",
      " 10  Turnover            7501 non-null   float64\n",
      " 11  Trades              7501 non-null   int64  \n",
      " 12  Deliverable Volume  7501 non-null   int64  \n",
      " 13  %Deliverble         7501 non-null   float64\n",
      "dtypes: float64(9), int64(3), object(2)\n",
      "memory usage: 879.0+ KB\n"
     ]
    }
   ],
   "source": [
    "# Using info() method to get a quick description of the stock data\n",
    "df_stock_raw.info()"
   ]
  },
  {
   "cell_type": "code",
   "execution_count": 9,
   "metadata": {
    "colab": {
     "base_uri": "https://localhost:8080/"
    },
    "id": "oW6DWy02SYNH",
    "outputId": "efb613e2-e955-46a0-e1c3-c3d8d62915c9"
   },
   "outputs": [
    {
     "name": "stdout",
     "output_type": "stream",
     "text": [
      "<class 'pandas.core.frame.DataFrame'>\n",
      "Index: 1 entries, 1 to 1\n",
      "Data columns (total 3 columns):\n",
      " #   Column    Non-Null Count  Dtype \n",
      "---  ------    --------------  ----- \n",
      " 0   Company   1 non-null      object\n",
      " 1   Symbol    1 non-null      object\n",
      " 2   Industry  1 non-null      object\n",
      "dtypes: object(3)\n",
      "memory usage: 32.0+ bytes\n"
     ]
    }
   ],
   "source": [
    "# Using info() method to get a quick description of the sector data\n",
    "df_sector.info()"
   ]
  },
  {
   "cell_type": "code",
   "execution_count": 10,
   "metadata": {
    "colab": {
     "base_uri": "https://localhost:8080/",
     "height": 337
    },
    "id": "7L-Ib9bb3w8C",
    "outputId": "21e59902-0bde-4664-97cf-1bfdedb96b1d"
   },
   "outputs": [
    {
     "data": {
      "text/html": [
       "<div>\n",
       "<style scoped>\n",
       "    .dataframe tbody tr th:only-of-type {\n",
       "        vertical-align: middle;\n",
       "    }\n",
       "\n",
       "    .dataframe tbody tr th {\n",
       "        vertical-align: top;\n",
       "    }\n",
       "\n",
       "    .dataframe thead th {\n",
       "        text-align: right;\n",
       "    }\n",
       "</style>\n",
       "<table border=\"1\" class=\"dataframe\">\n",
       "  <thead>\n",
       "    <tr style=\"text-align: right;\">\n",
       "      <th></th>\n",
       "      <th>Date</th>\n",
       "      <th>Prev Close</th>\n",
       "      <th>Open</th>\n",
       "      <th>High</th>\n",
       "      <th>Low</th>\n",
       "      <th>Last</th>\n",
       "      <th>Close</th>\n",
       "      <th>VWAP</th>\n",
       "      <th>Volume</th>\n",
       "      <th>Turnover</th>\n",
       "      <th>Trades</th>\n",
       "      <th>Deliverable Volume</th>\n",
       "      <th>%Deliverble</th>\n",
       "    </tr>\n",
       "  </thead>\n",
       "  <tbody>\n",
       "    <tr>\n",
       "      <th>count</th>\n",
       "      <td>577</td>\n",
       "      <td>577.000000</td>\n",
       "      <td>577.000000</td>\n",
       "      <td>577.000000</td>\n",
       "      <td>577.000000</td>\n",
       "      <td>577.000000</td>\n",
       "      <td>577.000000</td>\n",
       "      <td>577.000000</td>\n",
       "      <td>5.770000e+02</td>\n",
       "      <td>5.770000e+02</td>\n",
       "      <td>5.770000e+02</td>\n",
       "      <td>5.770000e+02</td>\n",
       "      <td>577.000000</td>\n",
       "    </tr>\n",
       "    <tr>\n",
       "      <th>mean</th>\n",
       "      <td>2020-03-01 11:11:20.069324032</td>\n",
       "      <td>878.350693</td>\n",
       "      <td>879.258492</td>\n",
       "      <td>890.009792</td>\n",
       "      <td>869.341768</td>\n",
       "      <td>879.846187</td>\n",
       "      <td>879.555893</td>\n",
       "      <td>879.768544</td>\n",
       "      <td>9.751012e+06</td>\n",
       "      <td>8.513570e+14</td>\n",
       "      <td>1.865238e+05</td>\n",
       "      <td>4.894523e+06</td>\n",
       "      <td>0.515412</td>\n",
       "    </tr>\n",
       "    <tr>\n",
       "      <th>min</th>\n",
       "      <td>2019-01-01 00:00:00</td>\n",
       "      <td>526.450000</td>\n",
       "      <td>509.250000</td>\n",
       "      <td>558.000000</td>\n",
       "      <td>509.250000</td>\n",
       "      <td>529.150000</td>\n",
       "      <td>526.450000</td>\n",
       "      <td>531.330000</td>\n",
       "      <td>1.136144e+06</td>\n",
       "      <td>1.290000e+14</td>\n",
       "      <td>3.676900e+04</td>\n",
       "      <td>4.469470e+05</td>\n",
       "      <td>0.165900</td>\n",
       "    </tr>\n",
       "    <tr>\n",
       "      <th>25%</th>\n",
       "      <td>2019-07-31 00:00:00</td>\n",
       "      <td>720.850000</td>\n",
       "      <td>720.000000</td>\n",
       "      <td>726.800000</td>\n",
       "      <td>712.600000</td>\n",
       "      <td>721.300000</td>\n",
       "      <td>721.050000</td>\n",
       "      <td>720.090000</td>\n",
       "      <td>6.092028e+06</td>\n",
       "      <td>4.960000e+14</td>\n",
       "      <td>1.253150e+05</td>\n",
       "      <td>3.096074e+06</td>\n",
       "      <td>0.448200</td>\n",
       "    </tr>\n",
       "    <tr>\n",
       "      <th>50%</th>\n",
       "      <td>2020-03-02 00:00:00</td>\n",
       "      <td>771.350000</td>\n",
       "      <td>771.600000</td>\n",
       "      <td>778.850000</td>\n",
       "      <td>764.500000</td>\n",
       "      <td>772.000000</td>\n",
       "      <td>771.450000</td>\n",
       "      <td>771.580000</td>\n",
       "      <td>7.926895e+06</td>\n",
       "      <td>6.830000e+14</td>\n",
       "      <td>1.617490e+05</td>\n",
       "      <td>4.108547e+06</td>\n",
       "      <td>0.520500</td>\n",
       "    </tr>\n",
       "    <tr>\n",
       "      <th>75%</th>\n",
       "      <td>2020-09-29 00:00:00</td>\n",
       "      <td>1011.000000</td>\n",
       "      <td>1018.000000</td>\n",
       "      <td>1028.000000</td>\n",
       "      <td>1005.000000</td>\n",
       "      <td>1013.850000</td>\n",
       "      <td>1011.450000</td>\n",
       "      <td>1016.650000</td>\n",
       "      <td>1.095492e+07</td>\n",
       "      <td>1.010000e+15</td>\n",
       "      <td>2.146850e+05</td>\n",
       "      <td>5.754904e+06</td>\n",
       "      <td>0.588500</td>\n",
       "    </tr>\n",
       "    <tr>\n",
       "      <th>max</th>\n",
       "      <td>2021-04-30 00:00:00</td>\n",
       "      <td>1441.050000</td>\n",
       "      <td>1474.000000</td>\n",
       "      <td>1477.550000</td>\n",
       "      <td>1430.050000</td>\n",
       "      <td>1441.000000</td>\n",
       "      <td>1441.050000</td>\n",
       "      <td>1441.230000</td>\n",
       "      <td>9.043339e+07</td>\n",
       "      <td>8.320000e+15</td>\n",
       "      <td>1.643015e+06</td>\n",
       "      <td>5.775916e+07</td>\n",
       "      <td>0.789800</td>\n",
       "    </tr>\n",
       "    <tr>\n",
       "      <th>std</th>\n",
       "      <td>NaN</td>\n",
       "      <td>229.751783</td>\n",
       "      <td>231.018181</td>\n",
       "      <td>232.874279</td>\n",
       "      <td>228.251563</td>\n",
       "      <td>230.704965</td>\n",
       "      <td>230.421822</td>\n",
       "      <td>230.277639</td>\n",
       "      <td>7.391332e+06</td>\n",
       "      <td>6.522003e+14</td>\n",
       "      <td>1.175618e+05</td>\n",
       "      <td>3.588231e+06</td>\n",
       "      <td>0.102997</td>\n",
       "    </tr>\n",
       "  </tbody>\n",
       "</table>\n",
       "</div>"
      ],
      "text/plain": [
       "                                Date   Prev Close         Open         High  \\\n",
       "count                            577   577.000000   577.000000   577.000000   \n",
       "mean   2020-03-01 11:11:20.069324032   878.350693   879.258492   890.009792   \n",
       "min              2019-01-01 00:00:00   526.450000   509.250000   558.000000   \n",
       "25%              2019-07-31 00:00:00   720.850000   720.000000   726.800000   \n",
       "50%              2020-03-02 00:00:00   771.350000   771.600000   778.850000   \n",
       "75%              2020-09-29 00:00:00  1011.000000  1018.000000  1028.000000   \n",
       "max              2021-04-30 00:00:00  1441.050000  1474.000000  1477.550000   \n",
       "std                              NaN   229.751783   231.018181   232.874279   \n",
       "\n",
       "               Low         Last        Close         VWAP        Volume  \\\n",
       "count   577.000000   577.000000   577.000000   577.000000  5.770000e+02   \n",
       "mean    869.341768   879.846187   879.555893   879.768544  9.751012e+06   \n",
       "min     509.250000   529.150000   526.450000   531.330000  1.136144e+06   \n",
       "25%     712.600000   721.300000   721.050000   720.090000  6.092028e+06   \n",
       "50%     764.500000   772.000000   771.450000   771.580000  7.926895e+06   \n",
       "75%    1005.000000  1013.850000  1011.450000  1016.650000  1.095492e+07   \n",
       "max    1430.050000  1441.000000  1441.050000  1441.230000  9.043339e+07   \n",
       "std     228.251563   230.704965   230.421822   230.277639  7.391332e+06   \n",
       "\n",
       "           Turnover        Trades  Deliverable Volume  %Deliverble  \n",
       "count  5.770000e+02  5.770000e+02        5.770000e+02   577.000000  \n",
       "mean   8.513570e+14  1.865238e+05        4.894523e+06     0.515412  \n",
       "min    1.290000e+14  3.676900e+04        4.469470e+05     0.165900  \n",
       "25%    4.960000e+14  1.253150e+05        3.096074e+06     0.448200  \n",
       "50%    6.830000e+14  1.617490e+05        4.108547e+06     0.520500  \n",
       "75%    1.010000e+15  2.146850e+05        5.754904e+06     0.588500  \n",
       "max    8.320000e+15  1.643015e+06        5.775916e+07     0.789800  \n",
       "std    6.522003e+14  1.175618e+05        3.588231e+06     0.102997  "
      ]
     },
     "execution_count": 10,
     "metadata": {},
     "output_type": "execute_result"
    }
   ],
   "source": [
    "# Finding the summary of numeric fields\n",
    "df_stock_raw_temp.describe()"
   ]
  },
  {
   "cell_type": "code",
   "execution_count": 11,
   "metadata": {
    "colab": {
     "base_uri": "https://localhost:8080/",
     "height": 310
    },
    "id": "b4GtBTJJhUQz",
    "outputId": "1ea60b33-14c9-47ed-c083-4cfb31b490eb"
   },
   "outputs": [
    {
     "data": {
      "text/html": [
       "<div>\n",
       "<style scoped>\n",
       "    .dataframe tbody tr th:only-of-type {\n",
       "        vertical-align: middle;\n",
       "    }\n",
       "\n",
       "    .dataframe tbody tr th {\n",
       "        vertical-align: top;\n",
       "    }\n",
       "\n",
       "    .dataframe thead th {\n",
       "        text-align: right;\n",
       "    }\n",
       "</style>\n",
       "<table border=\"1\" class=\"dataframe\">\n",
       "  <thead>\n",
       "    <tr style=\"text-align: right;\">\n",
       "      <th></th>\n",
       "      <th>Date</th>\n",
       "      <th>Symbol</th>\n",
       "      <th>Series</th>\n",
       "      <th>Prev Close</th>\n",
       "      <th>Open</th>\n",
       "      <th>High</th>\n",
       "      <th>Low</th>\n",
       "      <th>Last</th>\n",
       "      <th>Close</th>\n",
       "      <th>VWAP</th>\n",
       "      <th>Volume</th>\n",
       "      <th>Turnover</th>\n",
       "      <th>Trades</th>\n",
       "      <th>Deliverable Volume</th>\n",
       "      <th>%Deliverble</th>\n",
       "    </tr>\n",
       "  </thead>\n",
       "  <tbody>\n",
       "    <tr>\n",
       "      <th>2885</th>\n",
       "      <td>2019-01-01</td>\n",
       "      <td>INFY</td>\n",
       "      <td>EQ</td>\n",
       "      <td>658.95</td>\n",
       "      <td>660.95</td>\n",
       "      <td>666.3</td>\n",
       "      <td>654.15</td>\n",
       "      <td>665.95</td>\n",
       "      <td>665.05</td>\n",
       "      <td>660.66</td>\n",
       "      <td>2943390</td>\n",
       "      <td>1.940000e+14</td>\n",
       "      <td>45422</td>\n",
       "      <td>1282161</td>\n",
       "      <td>0.4356</td>\n",
       "    </tr>\n",
       "    <tr>\n",
       "      <th>2886</th>\n",
       "      <td>2019-01-02</td>\n",
       "      <td>INFY</td>\n",
       "      <td>EQ</td>\n",
       "      <td>665.05</td>\n",
       "      <td>666.00</td>\n",
       "      <td>674.0</td>\n",
       "      <td>662.05</td>\n",
       "      <td>668.00</td>\n",
       "      <td>669.05</td>\n",
       "      <td>669.97</td>\n",
       "      <td>7416655</td>\n",
       "      <td>4.970000e+14</td>\n",
       "      <td>108094</td>\n",
       "      <td>3880800</td>\n",
       "      <td>0.5233</td>\n",
       "    </tr>\n",
       "    <tr>\n",
       "      <th>2887</th>\n",
       "      <td>2019-01-03</td>\n",
       "      <td>INFY</td>\n",
       "      <td>EQ</td>\n",
       "      <td>669.05</td>\n",
       "      <td>672.00</td>\n",
       "      <td>677.0</td>\n",
       "      <td>663.10</td>\n",
       "      <td>668.00</td>\n",
       "      <td>669.15</td>\n",
       "      <td>669.66</td>\n",
       "      <td>6827249</td>\n",
       "      <td>4.570000e+14</td>\n",
       "      <td>125781</td>\n",
       "      <td>3676359</td>\n",
       "      <td>0.5385</td>\n",
       "    </tr>\n",
       "    <tr>\n",
       "      <th>2888</th>\n",
       "      <td>2019-01-04</td>\n",
       "      <td>INFY</td>\n",
       "      <td>EQ</td>\n",
       "      <td>669.15</td>\n",
       "      <td>671.75</td>\n",
       "      <td>673.9</td>\n",
       "      <td>651.00</td>\n",
       "      <td>660.25</td>\n",
       "      <td>661.05</td>\n",
       "      <td>660.17</td>\n",
       "      <td>7889310</td>\n",
       "      <td>5.210000e+14</td>\n",
       "      <td>187590</td>\n",
       "      <td>3747741</td>\n",
       "      <td>0.4750</td>\n",
       "    </tr>\n",
       "    <tr>\n",
       "      <th>2889</th>\n",
       "      <td>2019-01-07</td>\n",
       "      <td>INFY</td>\n",
       "      <td>EQ</td>\n",
       "      <td>661.05</td>\n",
       "      <td>665.00</td>\n",
       "      <td>673.6</td>\n",
       "      <td>661.50</td>\n",
       "      <td>671.70</td>\n",
       "      <td>671.70</td>\n",
       "      <td>667.51</td>\n",
       "      <td>8046340</td>\n",
       "      <td>5.370000e+14</td>\n",
       "      <td>132736</td>\n",
       "      <td>4711672</td>\n",
       "      <td>0.5856</td>\n",
       "    </tr>\n",
       "  </tbody>\n",
       "</table>\n",
       "</div>"
      ],
      "text/plain": [
       "           Date Symbol Series  Prev Close    Open   High     Low    Last  \\\n",
       "2885 2019-01-01   INFY     EQ      658.95  660.95  666.3  654.15  665.95   \n",
       "2886 2019-01-02   INFY     EQ      665.05  666.00  674.0  662.05  668.00   \n",
       "2887 2019-01-03   INFY     EQ      669.05  672.00  677.0  663.10  668.00   \n",
       "2888 2019-01-04   INFY     EQ      669.15  671.75  673.9  651.00  660.25   \n",
       "2889 2019-01-07   INFY     EQ      661.05  665.00  673.6  661.50  671.70   \n",
       "\n",
       "       Close    VWAP   Volume      Turnover  Trades  Deliverable Volume  \\\n",
       "2885  665.05  660.66  2943390  1.940000e+14   45422             1282161   \n",
       "2886  669.05  669.97  7416655  4.970000e+14  108094             3880800   \n",
       "2887  669.15  669.66  6827249  4.570000e+14  125781             3676359   \n",
       "2888  661.05  660.17  7889310  5.210000e+14  187590             3747741   \n",
       "2889  671.70  667.51  8046340  5.370000e+14  132736             4711672   \n",
       "\n",
       "      %Deliverble  \n",
       "2885       0.4356  \n",
       "2886       0.5233  \n",
       "2887       0.5385  \n",
       "2888       0.4750  \n",
       "2889       0.5856  "
      ]
     },
     "execution_count": 11,
     "metadata": {},
     "output_type": "execute_result"
    }
   ],
   "source": [
    "df_stock_raw_temp.head()"
   ]
  },
  {
   "cell_type": "code",
   "execution_count": 12,
   "metadata": {
    "colab": {
     "base_uri": "https://localhost:8080/",
     "height": 330
    },
    "id": "MH6HwTckhuoe",
    "outputId": "e49487e4-c4f8-4351-837e-17abb8c225f5"
   },
   "outputs": [
    {
     "data": {
      "text/html": [
       "<div>\n",
       "<style scoped>\n",
       "    .dataframe tbody tr th:only-of-type {\n",
       "        vertical-align: middle;\n",
       "    }\n",
       "\n",
       "    .dataframe tbody tr th {\n",
       "        vertical-align: top;\n",
       "    }\n",
       "\n",
       "    .dataframe thead th {\n",
       "        text-align: right;\n",
       "    }\n",
       "</style>\n",
       "<table border=\"1\" class=\"dataframe\">\n",
       "  <thead>\n",
       "    <tr style=\"text-align: right;\">\n",
       "      <th></th>\n",
       "      <th>Date</th>\n",
       "      <th>Symbol</th>\n",
       "      <th>Series</th>\n",
       "      <th>Prev Close</th>\n",
       "      <th>Open</th>\n",
       "      <th>High</th>\n",
       "      <th>Low</th>\n",
       "      <th>Last</th>\n",
       "      <th>Close</th>\n",
       "      <th>VWAP</th>\n",
       "      <th>Volume</th>\n",
       "      <th>Turnover</th>\n",
       "      <th>Trades</th>\n",
       "      <th>Deliverable Volume</th>\n",
       "      <th>%Deliverble</th>\n",
       "      <th>rollMean</th>\n",
       "      <th>rollStd</th>\n",
       "    </tr>\n",
       "  </thead>\n",
       "  <tbody>\n",
       "    <tr>\n",
       "      <th>3457</th>\n",
       "      <td>2021-04-26</td>\n",
       "      <td>INFY</td>\n",
       "      <td>EQ</td>\n",
       "      <td>1333.80</td>\n",
       "      <td>1332.25</td>\n",
       "      <td>1351.3</td>\n",
       "      <td>1321.00</td>\n",
       "      <td>1345.0</td>\n",
       "      <td>1343.55</td>\n",
       "      <td>1343.19</td>\n",
       "      <td>7088606</td>\n",
       "      <td>9.520000e+14</td>\n",
       "      <td>130375</td>\n",
       "      <td>4218129</td>\n",
       "      <td>0.5951</td>\n",
       "      <td>1382.570833</td>\n",
       "      <td>41.143035</td>\n",
       "    </tr>\n",
       "    <tr>\n",
       "      <th>3458</th>\n",
       "      <td>2021-04-27</td>\n",
       "      <td>INFY</td>\n",
       "      <td>EQ</td>\n",
       "      <td>1343.55</td>\n",
       "      <td>1346.00</td>\n",
       "      <td>1353.0</td>\n",
       "      <td>1340.15</td>\n",
       "      <td>1347.5</td>\n",
       "      <td>1348.50</td>\n",
       "      <td>1346.89</td>\n",
       "      <td>3636115</td>\n",
       "      <td>4.900000e+14</td>\n",
       "      <td>145974</td>\n",
       "      <td>1871084</td>\n",
       "      <td>0.5146</td>\n",
       "      <td>1375.762500</td>\n",
       "      <td>39.261693</td>\n",
       "    </tr>\n",
       "    <tr>\n",
       "      <th>3459</th>\n",
       "      <td>2021-04-28</td>\n",
       "      <td>INFY</td>\n",
       "      <td>EQ</td>\n",
       "      <td>1348.50</td>\n",
       "      <td>1358.00</td>\n",
       "      <td>1359.5</td>\n",
       "      <td>1344.60</td>\n",
       "      <td>1355.8</td>\n",
       "      <td>1356.00</td>\n",
       "      <td>1353.45</td>\n",
       "      <td>4879234</td>\n",
       "      <td>6.600000e+14</td>\n",
       "      <td>137376</td>\n",
       "      <td>2857134</td>\n",
       "      <td>0.5856</td>\n",
       "      <td>1368.775000</td>\n",
       "      <td>33.916653</td>\n",
       "    </tr>\n",
       "    <tr>\n",
       "      <th>3460</th>\n",
       "      <td>2021-04-29</td>\n",
       "      <td>INFY</td>\n",
       "      <td>EQ</td>\n",
       "      <td>1356.00</td>\n",
       "      <td>1368.00</td>\n",
       "      <td>1369.0</td>\n",
       "      <td>1351.40</td>\n",
       "      <td>1356.0</td>\n",
       "      <td>1356.35</td>\n",
       "      <td>1360.05</td>\n",
       "      <td>5412357</td>\n",
       "      <td>7.360000e+14</td>\n",
       "      <td>119277</td>\n",
       "      <td>3130945</td>\n",
       "      <td>0.5785</td>\n",
       "      <td>1361.716667</td>\n",
       "      <td>25.202086</td>\n",
       "    </tr>\n",
       "    <tr>\n",
       "      <th>3461</th>\n",
       "      <td>2021-04-30</td>\n",
       "      <td>INFY</td>\n",
       "      <td>EQ</td>\n",
       "      <td>1356.35</td>\n",
       "      <td>1346.30</td>\n",
       "      <td>1373.9</td>\n",
       "      <td>1345.90</td>\n",
       "      <td>1348.6</td>\n",
       "      <td>1354.35</td>\n",
       "      <td>1361.16</td>\n",
       "      <td>8354677</td>\n",
       "      <td>1.140000e+15</td>\n",
       "      <td>131718</td>\n",
       "      <td>5408113</td>\n",
       "      <td>0.6473</td>\n",
       "      <td>1355.766667</td>\n",
       "      <td>15.123031</td>\n",
       "    </tr>\n",
       "  </tbody>\n",
       "</table>\n",
       "</div>"
      ],
      "text/plain": [
       "           Date Symbol Series  Prev Close     Open    High      Low    Last  \\\n",
       "3457 2021-04-26   INFY     EQ     1333.80  1332.25  1351.3  1321.00  1345.0   \n",
       "3458 2021-04-27   INFY     EQ     1343.55  1346.00  1353.0  1340.15  1347.5   \n",
       "3459 2021-04-28   INFY     EQ     1348.50  1358.00  1359.5  1344.60  1355.8   \n",
       "3460 2021-04-29   INFY     EQ     1356.00  1368.00  1369.0  1351.40  1356.0   \n",
       "3461 2021-04-30   INFY     EQ     1356.35  1346.30  1373.9  1345.90  1348.6   \n",
       "\n",
       "        Close     VWAP   Volume      Turnover  Trades  Deliverable Volume  \\\n",
       "3457  1343.55  1343.19  7088606  9.520000e+14  130375             4218129   \n",
       "3458  1348.50  1346.89  3636115  4.900000e+14  145974             1871084   \n",
       "3459  1356.00  1353.45  4879234  6.600000e+14  137376             2857134   \n",
       "3460  1356.35  1360.05  5412357  7.360000e+14  119277             3130945   \n",
       "3461  1354.35  1361.16  8354677  1.140000e+15  131718             5408113   \n",
       "\n",
       "      %Deliverble     rollMean    rollStd  \n",
       "3457       0.5951  1382.570833  41.143035  \n",
       "3458       0.5146  1375.762500  39.261693  \n",
       "3459       0.5856  1368.775000  33.916653  \n",
       "3460       0.5785  1361.716667  25.202086  \n",
       "3461       0.6473  1355.766667  15.123031  "
      ]
     },
     "execution_count": 12,
     "metadata": {},
     "output_type": "execute_result"
    }
   ],
   "source": [
    "df_stock_raw_temp[\"Date\"] = pd.to_datetime(df_stock_raw_temp[\"Date\"],format='%d-%m-%Y')\n",
    "df_stock_raw_temp = df_stock_raw_temp.sort_values(by=\"Date\")\n",
    "\n",
    "df_stock_raw_temp['rollMean'] = df_stock_raw_temp.Close.rolling(window=12).mean()\n",
    "df_stock_raw_temp['rollStd'] = df_stock_raw_temp.Close.rolling(window=12).std()\n",
    "df_stock_raw_temp.tail()"
   ]
  },
  {
   "cell_type": "code",
   "execution_count": 13,
   "metadata": {
    "id": "hv2nQ1aBiNSO"
   },
   "outputs": [],
   "source": [
    "train_set = df_stock_raw_temp[: round(len(df_stock_raw_temp)*0.99)]  # staring to 99% value\n",
    "test_set = df_stock_raw_temp[round(len(df_stock_raw_temp)*0.99):]       # from 1% till end"
   ]
  },
  {
   "cell_type": "code",
   "execution_count": 14,
   "metadata": {
    "colab": {
     "base_uri": "https://localhost:8080/"
    },
    "id": "8-Ug0tWujRlU",
    "outputId": "bc3e97b4-0057-4f52-a8be-e431a9d12746"
   },
   "outputs": [
    {
     "name": "stdout",
     "output_type": "stream",
     "text": [
      "<class 'pandas.core.frame.DataFrame'>\n",
      "Index: 571 entries, 2885 to 3455\n",
      "Data columns (total 17 columns):\n",
      " #   Column              Non-Null Count  Dtype         \n",
      "---  ------              --------------  -----         \n",
      " 0   Date                571 non-null    datetime64[ns]\n",
      " 1   Symbol              571 non-null    object        \n",
      " 2   Series              571 non-null    object        \n",
      " 3   Prev Close          571 non-null    float64       \n",
      " 4   Open                571 non-null    float64       \n",
      " 5   High                571 non-null    float64       \n",
      " 6   Low                 571 non-null    float64       \n",
      " 7   Last                571 non-null    float64       \n",
      " 8   Close               571 non-null    float64       \n",
      " 9   VWAP                571 non-null    float64       \n",
      " 10  Volume              571 non-null    int64         \n",
      " 11  Turnover            571 non-null    float64       \n",
      " 12  Trades              571 non-null    int64         \n",
      " 13  Deliverable Volume  571 non-null    int64         \n",
      " 14  %Deliverble         571 non-null    float64       \n",
      " 15  rollMean            560 non-null    float64       \n",
      " 16  rollStd             560 non-null    float64       \n",
      "dtypes: datetime64[ns](1), float64(11), int64(3), object(2)\n",
      "memory usage: 80.3+ KB\n",
      "<class 'pandas.core.frame.DataFrame'>\n",
      "Index: 6 entries, 3456 to 3461\n",
      "Data columns (total 17 columns):\n",
      " #   Column              Non-Null Count  Dtype         \n",
      "---  ------              --------------  -----         \n",
      " 0   Date                6 non-null      datetime64[ns]\n",
      " 1   Symbol              6 non-null      object        \n",
      " 2   Series              6 non-null      object        \n",
      " 3   Prev Close          6 non-null      float64       \n",
      " 4   Open                6 non-null      float64       \n",
      " 5   High                6 non-null      float64       \n",
      " 6   Low                 6 non-null      float64       \n",
      " 7   Last                6 non-null      float64       \n",
      " 8   Close               6 non-null      float64       \n",
      " 9   VWAP                6 non-null      float64       \n",
      " 10  Volume              6 non-null      int64         \n",
      " 11  Turnover            6 non-null      float64       \n",
      " 12  Trades              6 non-null      int64         \n",
      " 13  Deliverable Volume  6 non-null      int64         \n",
      " 14  %Deliverble         6 non-null      float64       \n",
      " 15  rollMean            6 non-null      float64       \n",
      " 16  rollStd             6 non-null      float64       \n",
      "dtypes: datetime64[ns](1), float64(11), int64(3), object(2)\n",
      "memory usage: 864.0+ bytes\n"
     ]
    }
   ],
   "source": [
    "train_set.info()\n",
    "test_set.info()"
   ]
  },
  {
   "cell_type": "code",
   "execution_count": 15,
   "metadata": {
    "colab": {
     "base_uri": "https://localhost:8080/"
    },
    "id": "ffmVeTVsFEAY",
    "outputId": "de2f7cc8-7283-4eb9-8680-1d3055ed9a19"
   },
   "outputs": [
    {
     "name": "stdout",
     "output_type": "stream",
     "text": [
      "Train set size: 571\n",
      "Test set size: 6\n"
     ]
    }
   ],
   "source": [
    "# Print the size for train and test set\n",
    "print(f\"Train set size: {len(train_set)}\\nTest set size: {len(test_set)}\")"
   ]
  },
  {
   "cell_type": "markdown",
   "metadata": {
    "id": "CCE7suk5Gsne"
   },
   "source": [
    "**Discover and Visualize the Data to Gain Insights**"
   ]
  },
  {
   "cell_type": "code",
   "execution_count": 16,
   "metadata": {
    "id": "cWVQqlxNF0CR"
   },
   "outputs": [],
   "source": [
    "# Create a copy of training set\n",
    "df_train = train_set.copy()"
   ]
  },
  {
   "cell_type": "code",
   "execution_count": 17,
   "metadata": {
    "colab": {
     "base_uri": "https://localhost:8080/"
    },
    "id": "-tZGOv6xG8QB",
    "outputId": "8f5f72d6-7834-4621-b3b6-a2b422aaa4cb"
   },
   "outputs": [
    {
     "data": {
      "text/plain": [
       "Close                 1.000000\n",
       "Last                  0.999958\n",
       "VWAP                  0.999723\n",
       "High                  0.999248\n",
       "Low                   0.999198\n",
       "Open                  0.998164\n",
       "Prev Close            0.997179\n",
       "rollMean              0.990288\n",
       "Turnover              0.314866\n",
       "rollStd               0.239490\n",
       "Trades                0.089940\n",
       "Volume               -0.029489\n",
       "Deliverable Volume   -0.106184\n",
       "%Deliverble          -0.225189\n",
       "Name: Close, dtype: float64"
      ]
     },
     "execution_count": 17,
     "metadata": {},
     "output_type": "execute_result"
    }
   ],
   "source": [
    "# Finding correlation\n",
    "numeric_columns = df_train.select_dtypes(include=['float64', 'int64']).columns\n",
    "corr_mat = df_train[numeric_columns].corr()\n",
    "target_corr = corr_mat[\"Close\"].sort_values(ascending=False)\n",
    "top_features = target_corr[1:8].index\n",
    "target_corr\n"
   ]
  },
  {
   "cell_type": "code",
   "execution_count": 18,
   "metadata": {
    "colab": {
     "base_uri": "https://localhost:8080/",
     "height": 469
    },
    "id": "kMvBa86MLupQ",
    "outputId": "4e994acf-9eff-4482-fb0b-803cdfb3de0c"
   },
   "outputs": [
    {
     "data": {
      "text/plain": [
       "Text(0.5, 1.0, 'Correlation of Variables ')"
      ]
     },
     "execution_count": 18,
     "metadata": {},
     "output_type": "execute_result"
    },
    {
     "data": {
      "image/png": "[encoded data removed]",
      "text/plain": [
       "<Figure size 640x480 with 2 Axes>"
      ]
     },
     "metadata": {},
     "output_type": "display_data"
    }
   ],
   "source": [
    "# Representing the correlation through a heat map\n",
    "corr_mat_close = df_train[[\"Close\", \"Last\", \"VWAP\", \"High\", \"Low\", \"Open\", \"Prev Close\"]].corr()\n",
    "sns.heatmap(corr_mat_close, cmap = 'coolwarm' , annot = False)\n",
    "plt.title('Correlation of Variables ')"
   ]
  },
  {
   "cell_type": "markdown",
   "metadata": {
    "id": "hUlIJ8YUZU3z"
   },
   "source": [
    "# **Prepare the Data for Machine Learning Algorithms**"
   ]
  },
  {
   "cell_type": "code",
   "execution_count": 19,
   "metadata": {
    "id": "xwc20zHiW1gW"
   },
   "outputs": [],
   "source": [
    "# Creating a clean training set and separating predictors and labels\n",
    "df_train_pred = train_set.drop(\"Close\", axis=1)\n",
    "df_train_label = train_set[\"Close\"].copy()"
   ]
  },
  {
   "cell_type": "code",
   "execution_count": 20,
   "metadata": {
    "id": "PsveCDYfZsN2"
   },
   "outputs": [],
   "source": [
    "# Creating a clean test set and separating predictors and labels\n",
    "df_test_pred = test_set.drop(\"Close\", axis=1)\n",
    "df_test_label = test_set[\"Close\"].copy()"
   ]
  },
  {
   "cell_type": "code",
   "execution_count": 21,
   "metadata": {
    "id": "RRJpBEucHGEd"
   },
   "outputs": [],
   "source": [
    "# Best practices\n",
    "#DataFrameSelector\twill\ttransform\tthe\tdata\tby\tselecting\tthe\tdesired\tattributes,\tdropping\tthe\trest, and\tconverting\tthe\tresulting\tDataFrame\tto\ta\tNumPy\tarray.\n",
    "class DataFrameSelector(BaseEstimator, TransformerMixin):\n",
    "    def __init__(self, attribute_names):\n",
    "        self.attribute_names = attribute_names\n",
    "\n",
    "    def fit(self, X, y=None):\n",
    "        return self\n",
    "\n",
    "    def transform(self, X):\n",
    "        return X[self.attribute_names].values"
   ]
  },
  {
   "cell_type": "markdown",
   "metadata": {
    "id": "JORR72ZJaGyR"
   },
   "source": [
    "# **Pipeline on train and test data**"
   ]
  },
  {
   "cell_type": "code",
   "execution_count": 22,
   "metadata": {
    "id": "mu1B3xGBo-Gg"
   },
   "outputs": [],
   "source": [
    "# Creating pipeline for numerical and categorical features and join the pipeline\n",
    "## Since\timputer strategy median\tcan\tonly\tbe\tcomputed\ton\tnumerical\tattributes,\twe\tneed\tto\tcreate\ta\tcopy\tof\tthe\tdata without\tthe\ttext\tattribute\n",
    "train_num = df_train_pred.select_dtypes(include=['float64', 'int64']).columns\n",
    "train_cat = df_train_pred.select_dtypes(include=['object']).columns\n",
    "num_attribs = list(train_num)\n",
    "cat_attribs = list(train_cat)\n",
    "\n",
    "# Numeric pipeline\n",
    "num_pipeline\t=\tPipeline([\n",
    "\t\t\t\t\t\t\t\t('selector',\tDataFrameSelector(num_attribs)),\n",
    "\t\t\t\t\t\t\t\t('imputer',\tSimpleImputer(strategy=\"median\")),\n",
    "\t\t\t\t\t\t\t\t('std_scaler',\tStandardScaler()),\n",
    "\t\t\t\t])\n",
    "\n",
    "# Categorical pipeline\n",
    "cat_pipeline\t=\tPipeline([\n",
    "\t\t\t\t\t\t\t\t('selector',\tDataFrameSelector(cat_attribs)),\n",
    "\t\t\t\t\t\t\t\t('one_hot_encoder', OneHotEncoder(sparse_output=False)),\n",
    "\t\t\t\t])\n",
    "\n",
    "\n",
    "# Full pipeline\n",
    "full_pipeline\t=\tColumnTransformer([\n",
    "    ('num', num_pipeline, num_attribs),\n",
    "    ('cat', cat_pipeline, cat_attribs)\n",
    "])\n",
    "\n",
    "# Run whole pipeline\n",
    "train_prepared = full_pipeline.fit_transform(df_train_pred)"
   ]
  },
  {
   "cell_type": "code",
   "execution_count": 23,
   "metadata": {
    "colab": {
     "base_uri": "https://localhost:8080/"
    },
    "id": "z5Vmn0BNeYj3",
    "outputId": "36585b48-d3b4-4ebe-bace-b739a6a840c1"
   },
   "outputs": [
    {
     "data": {
      "text/plain": [
       "(571, 15)"
      ]
     },
     "execution_count": 23,
     "metadata": {},
     "output_type": "execute_result"
    }
   ],
   "source": [
    "# Checking the shape for the prepared data\n",
    "train_prepared.shape"
   ]
  },
  {
   "cell_type": "code",
   "execution_count": 24,
   "metadata": {
    "id": "YmV6hoBvaoZP"
   },
   "outputs": [],
   "source": [
    "test_prepared = full_pipeline.transform(df_test_pred)"
   ]
  },
  {
   "cell_type": "code",
   "execution_count": 25,
   "metadata": {
    "colab": {
     "base_uri": "https://localhost:8080/"
    },
    "id": "HLXvZRHfo_3p",
    "outputId": "65c3195a-8d0c-4269-9065-0a50e107bdd4"
   },
   "outputs": [
    {
     "data": {
      "text/plain": [
       "(6, 15)"
      ]
     },
     "execution_count": 25,
     "metadata": {},
     "output_type": "execute_result"
    }
   ],
   "source": [
    "test_prepared.shape"
   ]
  },
  {
   "cell_type": "code",
   "execution_count": 26,
   "metadata": {
    "colab": {
     "base_uri": "https://localhost:8080/",
     "height": 237
    },
    "id": "X7gCc_OxC_Et",
    "outputId": "3288a5b0-3b1c-47f5-cb38-de06efa85de2"
   },
   "outputs": [
    {
     "data": {
      "text/html": [
       "<div>\n",
       "<style scoped>\n",
       "    .dataframe tbody tr th:only-of-type {\n",
       "        vertical-align: middle;\n",
       "    }\n",
       "\n",
       "    .dataframe tbody tr th {\n",
       "        vertical-align: top;\n",
       "    }\n",
       "\n",
       "    .dataframe thead th {\n",
       "        text-align: right;\n",
       "    }\n",
       "</style>\n",
       "<table border=\"1\" class=\"dataframe\">\n",
       "  <thead>\n",
       "    <tr style=\"text-align: right;\">\n",
       "      <th></th>\n",
       "      <th>0</th>\n",
       "      <th>1</th>\n",
       "      <th>2</th>\n",
       "      <th>3</th>\n",
       "      <th>4</th>\n",
       "      <th>5</th>\n",
       "      <th>6</th>\n",
       "      <th>7</th>\n",
       "      <th>8</th>\n",
       "      <th>9</th>\n",
       "      <th>10</th>\n",
       "      <th>11</th>\n",
       "      <th>12</th>\n",
       "      <th>13</th>\n",
       "      <th>14</th>\n",
       "    </tr>\n",
       "  </thead>\n",
       "  <tbody>\n",
       "    <tr>\n",
       "      <th>0</th>\n",
       "      <td>2.117242</td>\n",
       "      <td>2.065374</td>\n",
       "      <td>2.024661</td>\n",
       "      <td>2.082267</td>\n",
       "      <td>2.025123</td>\n",
       "      <td>2.054845</td>\n",
       "      <td>-0.333629</td>\n",
       "      <td>0.196102</td>\n",
       "      <td>-0.196944</td>\n",
       "      <td>-0.218032</td>\n",
       "      <td>0.473830</td>\n",
       "      <td>2.366505</td>\n",
       "      <td>1.338546</td>\n",
       "      <td>1.0</td>\n",
       "      <td>1.0</td>\n",
       "    </tr>\n",
       "    <tr>\n",
       "      <th>1</th>\n",
       "      <td>2.040563</td>\n",
       "      <td>2.018001</td>\n",
       "      <td>2.037333</td>\n",
       "      <td>2.037640</td>\n",
       "      <td>2.074099</td>\n",
       "      <td>2.071207</td>\n",
       "      <td>-0.364342</td>\n",
       "      <td>0.153331</td>\n",
       "      <td>-0.480308</td>\n",
       "      <td>-0.191684</td>\n",
       "      <td>0.779217</td>\n",
       "      <td>2.340832</td>\n",
       "      <td>1.422858</td>\n",
       "      <td>1.0</td>\n",
       "      <td>1.0</td>\n",
       "    </tr>\n",
       "    <tr>\n",
       "      <th>2</th>\n",
       "      <td>2.083778</td>\n",
       "      <td>2.078595</td>\n",
       "      <td>2.044762</td>\n",
       "      <td>2.123101</td>\n",
       "      <td>2.085130</td>\n",
       "      <td>2.087569</td>\n",
       "      <td>-0.830119</td>\n",
       "      <td>-0.552377</td>\n",
       "      <td>-0.348070</td>\n",
       "      <td>-0.843718</td>\n",
       "      <td>-0.001216</td>\n",
       "      <td>2.309759</td>\n",
       "      <td>1.293246</td>\n",
       "      <td>1.0</td>\n",
       "      <td>1.0</td>\n",
       "    </tr>\n",
       "    <tr>\n",
       "      <th>3</th>\n",
       "      <td>2.105718</td>\n",
       "      <td>2.131477</td>\n",
       "      <td>2.073167</td>\n",
       "      <td>2.142960</td>\n",
       "      <td>2.121752</td>\n",
       "      <td>2.116579</td>\n",
       "      <td>-0.662409</td>\n",
       "      <td>-0.292701</td>\n",
       "      <td>-0.420958</td>\n",
       "      <td>-0.569783</td>\n",
       "      <td>0.687116</td>\n",
       "      <td>2.277868</td>\n",
       "      <td>0.925010</td>\n",
       "      <td>1.0</td>\n",
       "      <td>1.0</td>\n",
       "    </tr>\n",
       "    <tr>\n",
       "      <th>4</th>\n",
       "      <td>2.138960</td>\n",
       "      <td>2.175545</td>\n",
       "      <td>2.114681</td>\n",
       "      <td>2.173306</td>\n",
       "      <td>2.122635</td>\n",
       "      <td>2.145765</td>\n",
       "      <td>-0.590485</td>\n",
       "      <td>-0.176610</td>\n",
       "      <td>-0.574390</td>\n",
       "      <td>-0.493715</td>\n",
       "      <td>0.618283</td>\n",
       "      <td>2.245653</td>\n",
       "      <td>0.324638</td>\n",
       "      <td>1.0</td>\n",
       "      <td>1.0</td>\n",
       "    </tr>\n",
       "    <tr>\n",
       "      <th>5</th>\n",
       "      <td>2.140511</td>\n",
       "      <td>2.079917</td>\n",
       "      <td>2.136093</td>\n",
       "      <td>2.148761</td>\n",
       "      <td>2.089984</td>\n",
       "      <td>2.150674</td>\n",
       "      <td>-0.193535</td>\n",
       "      <td>0.440503</td>\n",
       "      <td>-0.468923</td>\n",
       "      <td>0.138906</td>\n",
       "      <td>1.285287</td>\n",
       "      <td>2.218497</td>\n",
       "      <td>-0.369739</td>\n",
       "      <td>1.0</td>\n",
       "      <td>1.0</td>\n",
       "    </tr>\n",
       "  </tbody>\n",
       "</table>\n",
       "</div>"
      ],
      "text/plain": [
       "         0         1         2         3         4         5         6   \\\n",
       "0  2.117242  2.065374  2.024661  2.082267  2.025123  2.054845 -0.333629   \n",
       "1  2.040563  2.018001  2.037333  2.037640  2.074099  2.071207 -0.364342   \n",
       "2  2.083778  2.078595  2.044762  2.123101  2.085130  2.087569 -0.830119   \n",
       "3  2.105718  2.131477  2.073167  2.142960  2.121752  2.116579 -0.662409   \n",
       "4  2.138960  2.175545  2.114681  2.173306  2.122635  2.145765 -0.590485   \n",
       "5  2.140511  2.079917  2.136093  2.148761  2.089984  2.150674 -0.193535   \n",
       "\n",
       "         7         8         9         10        11        12   13   14  \n",
       "0  0.196102 -0.196944 -0.218032  0.473830  2.366505  1.338546  1.0  1.0  \n",
       "1  0.153331 -0.480308 -0.191684  0.779217  2.340832  1.422858  1.0  1.0  \n",
       "2 -0.552377 -0.348070 -0.843718 -0.001216  2.309759  1.293246  1.0  1.0  \n",
       "3 -0.292701 -0.420958 -0.569783  0.687116  2.277868  0.925010  1.0  1.0  \n",
       "4 -0.176610 -0.574390 -0.493715  0.618283  2.245653  0.324638  1.0  1.0  \n",
       "5  0.440503 -0.468923  0.138906  1.285287  2.218497 -0.369739  1.0  1.0  "
      ]
     },
     "execution_count": 26,
     "metadata": {},
     "output_type": "execute_result"
    }
   ],
   "source": [
    "pd.DataFrame(data = test_prepared).head(7)"
   ]
  },
  {
   "cell_type": "markdown",
   "metadata": {
    "id": "V2z4SZ18vnir"
   },
   "source": [
    "# **Select and Train a Model**"
   ]
  },
  {
   "cell_type": "markdown",
   "metadata": {
    "id": "P0oY1bJ_1P1O"
   },
   "source": [
    "# Sentiment Analysis"
   ]
  },
  {
   "cell_type": "markdown",
   "metadata": {
    "id": "aROlFeBcv-f2"
   },
   "source": [
    "Before working with trained prepare data, lets have a look at market sentiment for these companies through **sector dataframe**"
   ]
  },
  {
   "cell_type": "code",
   "execution_count": 27,
   "metadata": {
    "colab": {
     "base_uri": "https://localhost:8080/",
     "height": 118
    },
    "id": "ppV9Kq2P7i9x",
    "outputId": "00e089f4-1e9e-46e9-e6d8-8029175d831c"
   },
   "outputs": [
    {
     "data": {
      "text/html": [
       "<div>\n",
       "<style scoped>\n",
       "    .dataframe tbody tr th:only-of-type {\n",
       "        vertical-align: middle;\n",
       "    }\n",
       "\n",
       "    .dataframe tbody tr th {\n",
       "        vertical-align: top;\n",
       "    }\n",
       "\n",
       "    .dataframe thead th {\n",
       "        text-align: right;\n",
       "    }\n",
       "</style>\n",
       "<table border=\"1\" class=\"dataframe\">\n",
       "  <thead>\n",
       "    <tr style=\"text-align: right;\">\n",
       "      <th></th>\n",
       "      <th>Symbol</th>\n",
       "      <th>Sentiment</th>\n",
       "    </tr>\n",
       "  </thead>\n",
       "  <tbody>\n",
       "    <tr>\n",
       "      <th>0</th>\n",
       "      <td>INFY</td>\n",
       "      <td>Positive</td>\n",
       "    </tr>\n",
       "  </tbody>\n",
       "</table>\n",
       "</div>"
      ],
      "text/plain": [
       "  Symbol Sentiment\n",
       "0   INFY  Positive"
      ]
     },
     "execution_count": 27,
     "metadata": {},
     "output_type": "execute_result"
    }
   ],
   "source": [
    "# Get company names in 'symbol' variable\n",
    "symbols = df_sector['Symbol']\n",
    "\n",
    "# Initialize the sentiment analyzer\n",
    "sia = SentimentIntensityAnalyzer()\n",
    "\n",
    "def fetch_article_text(url):\n",
    "    ''' This function fetchs article text from a webpage using newspaper3k '''\n",
    "    article = Article(url)\n",
    "    article.download()\n",
    "    article.parse()\n",
    "    return article.text\n",
    "\n",
    "def analyze_sentiment_for_symbol(symbol):\n",
    "    ''' This function is to analyze sentiment for news headlines for a given symbol '''\n",
    "    query = f\"{symbol} independent market sentiment\"\n",
    "\n",
    "    # Perform a Google search and get the first result\n",
    "    for url in search(query, num_results=10):\n",
    "        try:\n",
    "            # Fetch the article text from the webpage\n",
    "            article_text = fetch_article_text(url)\n",
    "\n",
    "            # Perform sentiment analysis on the article text\n",
    "            sentiment_score = sia.polarity_scores(article_text)['compound']\n",
    "\n",
    "            # Classify overall sentiment as positive, negative, or neutral\n",
    "            overall_sentiment = 'Positive' if sentiment_score > 0 else 'Negative' if sentiment_score < 0 else 'Neutral'\n",
    "\n",
    "            return overall_sentiment\n",
    "        except ArticleException as e:\n",
    "            print(f\"Failed to download article from {url}. Error: {e}\")\n",
    "\n",
    "    return None\n",
    "\n",
    "# Analyze sentiment for the symbols\n",
    "results = []\n",
    "for symbol in symbols:\n",
    "  sentiment = analyze_sentiment_for_symbol(symbol)\n",
    "  if sentiment:\n",
    "      result_entry = {\"Symbol\":symbol.upper(), \"Sentiment\": sentiment}\n",
    "      results.append(result_entry)\n",
    "\n",
    "  else:\n",
    "      result_entry = {\"Symbol\": symbol.upper(), \"Sentiment\": \"Not found\"}\n",
    "      results.append(result_entry)\n",
    "# Create a DataFrame from the results list\n",
    "stock_sentiments = pd.DataFrame(results)\n",
    "\n",
    "stock_sentiments.head(13)"
   ]
  },
  {
   "cell_type": "markdown",
   "metadata": {
    "id": "NMIozPpeMK5R"
   },
   "source": [
    "Now, lets have a look at market sentiment for these sectors through **sector dataframe**"
   ]
  },
  {
   "cell_type": "code",
   "execution_count": 28,
   "metadata": {
    "colab": {
     "base_uri": "https://localhost:8080/",
     "height": 81
    },
    "id": "CyUi10J-MZoi",
    "outputId": "49072c05-fd75-44b0-c026-d8ff5db89f37"
   },
   "outputs": [
    {
     "data": {
      "text/html": [
       "<div>\n",
       "<style scoped>\n",
       "    .dataframe tbody tr th:only-of-type {\n",
       "        vertical-align: middle;\n",
       "    }\n",
       "\n",
       "    .dataframe tbody tr th {\n",
       "        vertical-align: top;\n",
       "    }\n",
       "\n",
       "    .dataframe thead th {\n",
       "        text-align: right;\n",
       "    }\n",
       "</style>\n",
       "<table border=\"1\" class=\"dataframe\">\n",
       "  <thead>\n",
       "    <tr style=\"text-align: right;\">\n",
       "      <th></th>\n",
       "      <th>Industry</th>\n",
       "      <th>Sentiment</th>\n",
       "    </tr>\n",
       "  </thead>\n",
       "  <tbody>\n",
       "    <tr>\n",
       "      <th>0</th>\n",
       "      <td>Information Technology</td>\n",
       "      <td>Positive</td>\n",
       "    </tr>\n",
       "  </tbody>\n",
       "</table>\n",
       "</div>"
      ],
      "text/plain": [
       "                 Industry Sentiment\n",
       "0  Information Technology  Positive"
      ]
     },
     "execution_count": 28,
     "metadata": {},
     "output_type": "execute_result"
    }
   ],
   "source": [
    "symbols = df_sector['Symbol']\n",
    "# Get Industry names in 'Industry' variable\n",
    "sectors = df_sector['Industry'].unique()\n",
    "\n",
    "# Initialize the sentiment analyzer\n",
    "sia = SentimentIntensityAnalyzer()\n",
    "\n",
    "def fetch_article_text(url):\n",
    "    ''' This function fetchs article text from a webpage using newspaper3k '''\n",
    "    article = Article(url)\n",
    "    article.download()\n",
    "    article.parse()\n",
    "    return article.text\n",
    "\n",
    "def analyze_sentiment_for_sector(sector):\n",
    "    ''' This function is to analyze sentiment for news headlines for a given symbol '''\n",
    "    query = f\"{sector} independent market sentiment\"\n",
    "\n",
    "    # Perform a Google search and get the first result\n",
    "    for url in search(query, num_results=10):\n",
    "        try:\n",
    "            # Fetch the article text from the webpage\n",
    "            article_text = fetch_article_text(url)\n",
    "\n",
    "            # Perform sentiment analysis on the article text\n",
    "            sentiment_score = sia.polarity_scores(article_text)['compound']\n",
    "\n",
    "            # Classify overall sentiment as positive, negative, or neutral\n",
    "            overall_sentiment = 'Positive' if sentiment_score > 0 else 'Negative' if sentiment_score < 0 else 'Neutral'\n",
    "\n",
    "            return overall_sentiment\n",
    "        except ArticleException as e:\n",
    "            print(f\"Failed to download article from {url}. Error: {e}\")\n",
    "\n",
    "    return None\n",
    "\n",
    "# Analyze sentiment for the symbols\n",
    "results = []\n",
    "for sector in sectors:\n",
    "  sentiment = analyze_sentiment_for_sector(sector)\n",
    "  if sentiment:\n",
    "      result_entry = {\"Industry\":sector, \"Sentiment\": sentiment}\n",
    "      results.append(result_entry)\n",
    "\n",
    "  else:\n",
    "      result_entry = {\"Industry\": sector, \"Sentiment\": \"Not found\"}\n",
    "      results.append(result_entry)\n",
    "# Create a DataFrame from the results list\n",
    "industry_sentiments = pd.DataFrame(results)\n",
    "\n",
    "industry_sentiments.head(13)"
   ]
  },
  {
   "cell_type": "markdown",
   "metadata": {
    "id": "q1xbX490hc-v"
   },
   "source": [
    "FII Activity"
   ]
  },
  {
   "cell_type": "code",
   "execution_count": 29,
   "metadata": {
    "colab": {
     "base_uri": "https://localhost:8080/",
     "height": 81
    },
    "id": "8CTHkQsf8EqY",
    "outputId": "fbf0b99d-08de-4c01-a9bd-be75af38cde0"
   },
   "outputs": [
    {
     "data": {
      "text/html": [
       "<div>\n",
       "<style scoped>\n",
       "    .dataframe tbody tr th:only-of-type {\n",
       "        vertical-align: middle;\n",
       "    }\n",
       "\n",
       "    .dataframe tbody tr th {\n",
       "        vertical-align: top;\n",
       "    }\n",
       "\n",
       "    .dataframe thead th {\n",
       "        text-align: right;\n",
       "    }\n",
       "</style>\n",
       "<table border=\"1\" class=\"dataframe\">\n",
       "  <thead>\n",
       "    <tr style=\"text-align: right;\">\n",
       "      <th></th>\n",
       "      <th>Symbol</th>\n",
       "      <th>Sentiment_FII</th>\n",
       "    </tr>\n",
       "  </thead>\n",
       "  <tbody>\n",
       "    <tr>\n",
       "      <th>0</th>\n",
       "      <td>INFY</td>\n",
       "      <td>Positive</td>\n",
       "    </tr>\n",
       "  </tbody>\n",
       "</table>\n",
       "</div>"
      ],
      "text/plain": [
       "  Symbol Sentiment_FII\n",
       "0   INFY      Positive"
      ]
     },
     "execution_count": 29,
     "metadata": {},
     "output_type": "execute_result"
    }
   ],
   "source": [
    "# Get company names in 'symbol' variable\n",
    "symbols = df_sector['Symbol']\n",
    "\n",
    "# Analyze sentiment for the symbols\n",
    "results = []\n",
    "\n",
    "def analyze_fii_for_symbol(symbol):\n",
    "    ''' This function is to analyze FII activity for a given symbol '''\n",
    "    ' Read the FII data'\n",
    "    index, match_present = match_index(symbol)\n",
    "    if match_present:\n",
    "      if df_fii.values[index][1] > df_fii.values[index][2]:\n",
    "        return 'Positive'\n",
    "      elif df_fii.values[index][1] == df_fii.values[index][2]:\n",
    "        return 'Neutral'\n",
    "      else:\n",
    "        return 'Negative'\n",
    "    else:\n",
    "      return 'None'\n",
    "\n",
    "def match_index(symbol):\n",
    "  match_present = 0\n",
    "  for i in range(len(df_fii)):\n",
    "    if symbol == df_fii.values[i][0]:\n",
    "      match_present = 1\n",
    "      return i, match_present\n",
    "  return i, 0\n",
    "\n",
    "for symbol in symbols:\n",
    "  fii_sentiment = analyze_fii_for_symbol(symbol)\n",
    "  if fii_sentiment:\n",
    "      result_entry = {\"Symbol\":symbol.upper(), \"Sentiment_FII\": fii_sentiment}\n",
    "      results.append(result_entry)\n",
    "\n",
    "  else:\n",
    "      result_entry = {\"Symbol\": symbol.upper(), \"Sentiment_FII\": \"Not found\"}\n",
    "      results.append(result_entry)\n",
    "# Create a DataFrame from the results list\n",
    "fii_sentiments = pd.DataFrame(results)\n",
    "\n",
    "fii_sentiments.head(13)"
   ]
  },
  {
   "cell_type": "markdown",
   "metadata": {
    "id": "__FR4xqph4PZ"
   },
   "source": [
    "DII Activity"
   ]
  },
  {
   "cell_type": "code",
   "execution_count": 30,
   "metadata": {
    "colab": {
     "base_uri": "https://localhost:8080/",
     "height": 81
    },
    "id": "21KUKkT8IHvH",
    "outputId": "3c18afa7-18a6-42aa-a5f1-b9779e7c7574"
   },
   "outputs": [
    {
     "data": {
      "text/html": [
       "<div>\n",
       "<style scoped>\n",
       "    .dataframe tbody tr th:only-of-type {\n",
       "        vertical-align: middle;\n",
       "    }\n",
       "\n",
       "    .dataframe tbody tr th {\n",
       "        vertical-align: top;\n",
       "    }\n",
       "\n",
       "    .dataframe thead th {\n",
       "        text-align: right;\n",
       "    }\n",
       "</style>\n",
       "<table border=\"1\" class=\"dataframe\">\n",
       "  <thead>\n",
       "    <tr style=\"text-align: right;\">\n",
       "      <th></th>\n",
       "      <th>Symbol</th>\n",
       "      <th>Sentiment_DII</th>\n",
       "    </tr>\n",
       "  </thead>\n",
       "  <tbody>\n",
       "    <tr>\n",
       "      <th>0</th>\n",
       "      <td>INFY</td>\n",
       "      <td>Positive</td>\n",
       "    </tr>\n",
       "  </tbody>\n",
       "</table>\n",
       "</div>"
      ],
      "text/plain": [
       "  Symbol Sentiment_DII\n",
       "0   INFY      Positive"
      ]
     },
     "execution_count": 30,
     "metadata": {},
     "output_type": "execute_result"
    }
   ],
   "source": [
    "# Get company names in 'symbol' variable\n",
    "symbols = df_sector['Symbol']\n",
    "\n",
    "# Analyze sentiment for the symbols\n",
    "results = []\n",
    "def analyze_dii_for_symbol(symbol):\n",
    "    ''' This function is to analyze DII activity for a given symbol '''\n",
    "    ' Read the FII data'\n",
    "    index, match_present = match_index(symbol)\n",
    "    if match_present:\n",
    "      if df_dii.values[index][1] > df_dii.values[index][2]:\n",
    "        return 'Positive'\n",
    "      elif df_dii.values[index][1] == df_dii.values[index][2]:\n",
    "        return 'Neutral'\n",
    "      else:\n",
    "        return 'Negative'\n",
    "    else:\n",
    "      return 'None'\n",
    "\n",
    "def match_index(symbol):\n",
    "  match_present = 0\n",
    "  for i in range(len(df_dii)):\n",
    "    if symbol == df_dii.values[i][0]:\n",
    "      match_present = 1\n",
    "      return i, match_present\n",
    "  return i, 0\n",
    "\n",
    "for symbol in symbols:\n",
    "  dii_sentiment = analyze_dii_for_symbol(symbol)\n",
    "  if dii_sentiment:\n",
    "      result_entry = {\"Symbol\":symbol.upper(), \"Sentiment_DII\": dii_sentiment}\n",
    "      results.append(result_entry)\n",
    "\n",
    "  else:\n",
    "      result_entry = {\"Symbol\": symbol.upper(), \"Sentiment_DII\": \"Not found\"}\n",
    "      results.append(result_entry)\n",
    "# Create a DataFrame from the results list\n",
    "dii_sentiments = pd.DataFrame(results)\n",
    "\n",
    "dii_sentiments.head(13)"
   ]
  },
  {
   "cell_type": "markdown",
   "metadata": {
    "id": "UN7jLYsIfFsj"
   },
   "source": [
    "Combining both sentiments"
   ]
  },
  {
   "cell_type": "code",
   "execution_count": 31,
   "metadata": {
    "colab": {
     "base_uri": "https://localhost:8080/",
     "height": 219
    },
    "id": "839a2um8fEWL",
    "outputId": "aef3e694-8bda-4264-c33f-723538e81ff2"
   },
   "outputs": [
    {
     "data": {
      "text/plain": [
       "Company                       Infosys (INFY)\n",
       "Symbol                                  INFY\n",
       "Industry              Information Technology\n",
       "Sentiment_Symbol                    Positive\n",
       "Sentiment_FII                       Positive\n",
       "Sentiment_DII                       Positive\n",
       "Sentiment_Industry                  Positive\n",
       "Name: 0, dtype: object"
      ]
     },
     "metadata": {},
     "output_type": "display_data"
    },
    {
     "data": {
      "text/html": [
       "<div>\n",
       "<style scoped>\n",
       "    .dataframe tbody tr th:only-of-type {\n",
       "        vertical-align: middle;\n",
       "    }\n",
       "\n",
       "    .dataframe tbody tr th {\n",
       "        vertical-align: top;\n",
       "    }\n",
       "\n",
       "    .dataframe thead th {\n",
       "        text-align: right;\n",
       "    }\n",
       "</style>\n",
       "<table border=\"1\" class=\"dataframe\">\n",
       "  <thead>\n",
       "    <tr style=\"text-align: right;\">\n",
       "      <th></th>\n",
       "      <th>Symbol</th>\n",
       "      <th>Industry</th>\n",
       "      <th>Overall_Sentiment</th>\n",
       "    </tr>\n",
       "  </thead>\n",
       "  <tbody>\n",
       "    <tr>\n",
       "      <th>0</th>\n",
       "      <td>INFY</td>\n",
       "      <td>Information Technology</td>\n",
       "      <td>Positive</td>\n",
       "    </tr>\n",
       "  </tbody>\n",
       "</table>\n",
       "</div>"
      ],
      "text/plain": [
       "  Symbol                Industry Overall_Sentiment\n",
       "0   INFY  Information Technology          Positive"
      ]
     },
     "execution_count": 31,
     "metadata": {},
     "output_type": "execute_result"
    }
   ],
   "source": [
    "# Merge df_sector and stock_sentiments\n",
    "df_sector_stock_Sentiments = pd.merge(df_sector, stock_sentiments, on='Symbol', how='inner')\n",
    "df_temp_sentiments = pd.merge(df_sector_stock_Sentiments,fii_sentiments)\n",
    "df_dii_sentiments = pd.merge(df_temp_sentiments,dii_sentiments)\n",
    "# Merge df_sector_stock_Sentiments and industry_sentiments\n",
    "df_final_data = pd.merge(df_dii_sentiments, industry_sentiments, on='Industry', how='inner', suffixes=('_Symbol', '_Industry'))\n",
    "\n",
    "\n",
    "def calculate_overall_sentiment(row):\n",
    "    ''' Function to calculate overall sentiment '''\n",
    "    display(row)\n",
    "    positive_cnt = (row['Sentiment_Symbol'] == 'Positive') + (row['Sentiment_Industry'] == 'Positive') + (row['Sentiment_FII'] == 'Positive') + (row['Sentiment_DII'] == 'Positive')\n",
    "    negative_cnt = (row['Sentiment_Symbol'] == 'Negative') + (row['Sentiment_Industry'] == 'Negative') + (row['Sentiment_FII'] == 'Negative') + (row['Sentiment_DII'] == 'Negative')\n",
    "    if positive_cnt > negative_cnt:\n",
    "        return 'Positive'\n",
    "    elif positive_cnt < negative_cnt:\n",
    "        return 'Negative'\n",
    "    else:\n",
    "        return 'Neutral'\n",
    "\n",
    "df_final_data[\"Overall_Sentiment\"] = df_final_data.apply(calculate_overall_sentiment, axis=1)\n",
    "\n",
    "# Create a new dataframe with the desired information\n",
    "df_combined_sentiments = df_final_data[['Symbol', 'Industry', 'Overall_Sentiment']]\n",
    "\n",
    "df_combined_sentiments.head(65)\n"
   ]
  },
  {
   "cell_type": "markdown",
   "metadata": {
    "id": "WBzoz_tI1Kf4"
   },
   "source": [
    "# ARIMA & SARIMAX\n"
   ]
  },
  {
   "cell_type": "code",
   "execution_count": 32,
   "metadata": {
    "id": "WD2BFTB01Y1F"
   },
   "outputs": [],
   "source": [
    "def stationarity(df, var):\n",
    "    df['rollMean'] = df[var].rolling(window=3).mean()\n",
    "    df['rollStd'] = df[var].rolling(window=3).std()\n",
    "\n",
    "    from statsmodels.tsa.stattools import adfuller\n",
    "    adfTest = adfuller(df[var], autolag = 'AIC')\n",
    "    stats= pd.Series(adfTest[0:4], index = ['Test Statistics', 'p-value', '#lags used', 'numbers of observations used'])\n",
    "    print(stats)\n",
    "    for key,values in adfTest[4].items():\n",
    "        print(\"criticality\",key,\":\",values)\n",
    "\n",
    "    sns.lineplot( data = df, x = df.index, y = var, label = \"Original\")\n",
    "    sns.lineplot( data = df, x = df.index, y = 'rollMean', label = \"Mean\")\n",
    "    sns.lineplot( data = df, x = df.index, y = 'rollStd', label = \"Variance\")\n",
    "\n",
    "# test statistics < critical value , then stationary"
   ]
  },
  {
   "cell_type": "code",
   "execution_count": 33,
   "metadata": {
    "colab": {
     "base_uri": "https://localhost:8080/",
     "height": 569
    },
    "id": "hw38Fy3c1l-W",
    "outputId": "b6870d8d-8634-42f3-de3f-d61565006ab0"
   },
   "outputs": [
    {
     "name": "stdout",
     "output_type": "stream",
     "text": [
      "Test Statistics                   0.096518\n",
      "p-value                           0.965823\n",
      "#lags used                        7.000000\n",
      "numbers of observations used    569.000000\n",
      "dtype: float64\n",
      "criticality 1% : -3.4418948967017475\n",
      "criticality 5% : -2.8666329082535222\n",
      "criticality 10% : -2.569482366838501\n"
     ]
    },
    {
     "data": {
      "image/png": "[encoded data removed]",
      "text/plain": [
       "<Figure size 640x480 with 1 Axes>"
      ]
     },
     "metadata": {},
     "output_type": "display_data"
    }
   ],
   "source": [
    "stationarity(df_stock_raw_temp, \"Close\")"
   ]
  },
  {
   "cell_type": "code",
   "execution_count": 34,
   "metadata": {
    "colab": {
     "base_uri": "https://localhost:8080/",
     "height": 206
    },
    "id": "smzlf_Vw1zoK",
    "outputId": "390cb1d3-ef17-4c62-f13e-bf6f9302626e"
   },
   "outputs": [
    {
     "data": {
      "text/html": [
       "<div>\n",
       "<style scoped>\n",
       "    .dataframe tbody tr th:only-of-type {\n",
       "        vertical-align: middle;\n",
       "    }\n",
       "\n",
       "    .dataframe tbody tr th {\n",
       "        vertical-align: top;\n",
       "    }\n",
       "\n",
       "    .dataframe thead th {\n",
       "        text-align: right;\n",
       "    }\n",
       "</style>\n",
       "<table border=\"1\" class=\"dataframe\">\n",
       "  <thead>\n",
       "    <tr style=\"text-align: right;\">\n",
       "      <th></th>\n",
       "      <th>Close</th>\n",
       "      <th>shift</th>\n",
       "      <th>shiftDiff</th>\n",
       "      <th>log</th>\n",
       "    </tr>\n",
       "  </thead>\n",
       "  <tbody>\n",
       "    <tr>\n",
       "      <th>2885</th>\n",
       "      <td>665.05</td>\n",
       "      <td>NaN</td>\n",
       "      <td>NaN</td>\n",
       "      <td>6.499862</td>\n",
       "    </tr>\n",
       "    <tr>\n",
       "      <th>2886</th>\n",
       "      <td>669.05</td>\n",
       "      <td>665.05</td>\n",
       "      <td>4.00</td>\n",
       "      <td>6.505859</td>\n",
       "    </tr>\n",
       "    <tr>\n",
       "      <th>2887</th>\n",
       "      <td>669.15</td>\n",
       "      <td>669.05</td>\n",
       "      <td>0.10</td>\n",
       "      <td>6.506008</td>\n",
       "    </tr>\n",
       "    <tr>\n",
       "      <th>2888</th>\n",
       "      <td>661.05</td>\n",
       "      <td>669.15</td>\n",
       "      <td>-8.10</td>\n",
       "      <td>6.493829</td>\n",
       "    </tr>\n",
       "    <tr>\n",
       "      <th>2889</th>\n",
       "      <td>671.70</td>\n",
       "      <td>661.05</td>\n",
       "      <td>10.65</td>\n",
       "      <td>6.509812</td>\n",
       "    </tr>\n",
       "  </tbody>\n",
       "</table>\n",
       "</div>"
      ],
      "text/plain": [
       "       Close   shift  shiftDiff       log\n",
       "2885  665.05     NaN        NaN  6.499862\n",
       "2886  669.05  665.05       4.00  6.505859\n",
       "2887  669.15  669.05       0.10  6.506008\n",
       "2888  661.05  669.15      -8.10  6.493829\n",
       "2889  671.70  661.05      10.65  6.509812"
      ]
     },
     "execution_count": 34,
     "metadata": {},
     "output_type": "execute_result"
    }
   ],
   "source": [
    "# Convert Non- Stationary data to stationary data\n",
    "# Method 1 - Time shift\n",
    "air_df = df_stock_raw_temp[['Close']]\n",
    "\n",
    "air_df['shift'] = air_df.Close.shift()\n",
    "air_df['shiftDiff'] = air_df.Close - air_df['shift']\n",
    "\n",
    "\n",
    "# Method 2 - Log value\n",
    "air_df['log'] = np.log(df_stock_raw_temp['Close'])\n",
    "\n",
    "air_df.head()"
   ]
  },
  {
   "cell_type": "code",
   "execution_count": 35,
   "metadata": {
    "colab": {
     "base_uri": "https://localhost:8080/",
     "height": 569
    },
    "id": "InGwrSYm29d6",
    "outputId": "337442f7-a0c1-4d8f-c9c1-6373d42d4b50"
   },
   "outputs": [
    {
     "name": "stdout",
     "output_type": "stream",
     "text": [
      "Test Statistics                -8.869154e+00\n",
      "p-value                         1.413404e-14\n",
      "#lags used                      6.000000e+00\n",
      "numbers of observations used    5.690000e+02\n",
      "dtype: float64\n",
      "criticality 1% : -3.4418948967017475\n",
      "criticality 5% : -2.8666329082535222\n",
      "criticality 10% : -2.569482366838501\n"
     ]
    },
    {
     "data": {
      "image/png": "[encoded data removed]",
      "text/plain": [
       "<Figure size 640x480 with 1 Axes>"
      ]
     },
     "metadata": {},
     "output_type": "display_data"
    }
   ],
   "source": [
    "stationarity(air_df.dropna(), \"shiftDiff\")"
   ]
  },
  {
   "cell_type": "code",
   "execution_count": 36,
   "metadata": {
    "colab": {
     "base_uri": "https://localhost:8080/",
     "height": 569
    },
    "id": "6NiXYMtu3A4P",
    "outputId": "fd4b6d42-227e-4ab0-b82b-72f8a2843e64"
   },
   "outputs": [
    {
     "name": "stdout",
     "output_type": "stream",
     "text": [
      "Test Statistics                  -0.120527\n",
      "p-value                           0.947355\n",
      "#lags used                        9.000000\n",
      "numbers of observations used    566.000000\n",
      "dtype: float64\n",
      "criticality 1% : -3.441956369604407\n",
      "criticality 5% : -2.8666599744723045\n",
      "criticality 10% : -2.5694967895716014\n"
     ]
    },
    {
     "data": {
      "image/png": "[encoded data removed]",
      "text/plain": [
       "<Figure size 640x480 with 1 Axes>"
      ]
     },
     "metadata": {},
     "output_type": "display_data"
    }
   ],
   "source": [
    "stationarity(air_df.dropna(), \"log\")"
   ]
  },
  {
   "cell_type": "code",
   "execution_count": 37,
   "metadata": {
    "id": "OoPSfVNv3MOQ"
   },
   "outputs": [],
   "source": [
    "# Preparing Data to identify order\n",
    "\n",
    "#creating a new DataFrame that contains only the 'Close' column\n",
    "df_Stocks_Close = air_df[['Close']].copy(deep=True)\n",
    "\n",
    "# First Diff - commonly used to make the time series data stationary, for ARIMA models.\n",
    "df_Stocks_Close['firstDiff'] = df_Stocks_Close['Close'].diff()\n",
    "\n",
    "# Seasonal Difference - by subtracting the value from 12 months ago from the current value.\n",
    "# useful for addressing seasonality in the data\n",
    "df_Stocks_Close['Diff12'] = df_Stocks_Close['Close'].diff(12)"
   ]
  },
  {
   "cell_type": "code",
   "execution_count": 38,
   "metadata": {
    "colab": {
     "base_uri": "https://localhost:8080/",
     "height": 1000
    },
    "id": "iTlHYpJO4BIb",
    "outputId": "07737a40-e0e1-40fc-9c2e-7f2feb3234d7"
   },
   "outputs": [
    {
     "data": {
      "image/png": "[encoded data removed]",
      "text/plain": [
       "<Figure size 640x480 with 1 Axes>"
      ]
     },
     "execution_count": 38,
     "metadata": {},
     "output_type": "execute_result"
    },
    {
     "data": {
      "image/png": "[encoded data removed]",
      "text/plain": [
       "<Figure size 640x480 with 1 Axes>"
      ]
     },
     "metadata": {},
     "output_type": "display_data"
    },
    {
     "data": {
      "image/png": "[encoded data removed]",
      "text/plain": [
       "<Figure size 640x480 with 1 Axes>"
      ]
     },
     "metadata": {},
     "output_type": "display_data"
    }
   ],
   "source": [
    "# Order for ARIMA - p value using PACF\n",
    "plot_pacf(df_Stocks_Close['firstDiff'].dropna(), lags=20) #why lags is 20 ?\n",
    "# Order for ARIMA - qvalue using ACF\n",
    "plot_acf(df_Stocks_Close['firstDiff'].dropna(), lags=20) #why lags is 20 ?"
   ]
  },
  {
   "cell_type": "code",
   "execution_count": 39,
   "metadata": {
    "id": "vMdGh__n4VFs"
   },
   "outputs": [],
   "source": [
    "df_Stocks_Close.reset_index(inplace= True)\n",
    "\n",
    "#Train m test\n",
    "train = df_Stocks_Close[: round(len(df_Stocks_Close)*0.90)]  # staring to 80% value\n",
    "test = df_Stocks_Close[round(len(df_Stocks_Close)*0.90):]       # from 80% till end\n",
    "\n"
   ]
  },
  {
   "cell_type": "code",
   "execution_count": 40,
   "metadata": {
    "colab": {
     "base_uri": "https://localhost:8080/",
     "height": 206
    },
    "id": "mHRneV2L95KB",
    "outputId": "46c7621a-653d-4fe7-c195-dc85608f7d00"
   },
   "outputs": [
    {
     "data": {
      "text/html": [
       "<div>\n",
       "<style scoped>\n",
       "    .dataframe tbody tr th:only-of-type {\n",
       "        vertical-align: middle;\n",
       "    }\n",
       "\n",
       "    .dataframe tbody tr th {\n",
       "        vertical-align: top;\n",
       "    }\n",
       "\n",
       "    .dataframe thead th {\n",
       "        text-align: right;\n",
       "    }\n",
       "</style>\n",
       "<table border=\"1\" class=\"dataframe\">\n",
       "  <thead>\n",
       "    <tr style=\"text-align: right;\">\n",
       "      <th></th>\n",
       "      <th>index</th>\n",
       "      <th>Close</th>\n",
       "      <th>firstDiff</th>\n",
       "      <th>Diff12</th>\n",
       "      <th>arimaPred</th>\n",
       "    </tr>\n",
       "  </thead>\n",
       "  <tbody>\n",
       "    <tr>\n",
       "      <th>572</th>\n",
       "      <td>3457</td>\n",
       "      <td>1343.55</td>\n",
       "      <td>9.75</td>\n",
       "      <td>-67.50</td>\n",
       "      <td>1274.393920</td>\n",
       "    </tr>\n",
       "    <tr>\n",
       "      <th>573</th>\n",
       "      <td>3458</td>\n",
       "      <td>1348.50</td>\n",
       "      <td>4.95</td>\n",
       "      <td>-81.70</td>\n",
       "      <td>1273.232743</td>\n",
       "    </tr>\n",
       "    <tr>\n",
       "      <th>574</th>\n",
       "      <td>3459</td>\n",
       "      <td>1356.00</td>\n",
       "      <td>7.50</td>\n",
       "      <td>-83.85</td>\n",
       "      <td>1272.849320</td>\n",
       "    </tr>\n",
       "    <tr>\n",
       "      <th>575</th>\n",
       "      <td>3460</td>\n",
       "      <td>1356.35</td>\n",
       "      <td>0.35</td>\n",
       "      <td>-84.70</td>\n",
       "      <td>1274.268698</td>\n",
       "    </tr>\n",
       "    <tr>\n",
       "      <th>576</th>\n",
       "      <td>3461</td>\n",
       "      <td>1354.35</td>\n",
       "      <td>-2.00</td>\n",
       "      <td>-71.40</td>\n",
       "      <td>1274.009287</td>\n",
       "    </tr>\n",
       "  </tbody>\n",
       "</table>\n",
       "</div>"
      ],
      "text/plain": [
       "     index    Close  firstDiff  Diff12    arimaPred\n",
       "572   3457  1343.55       9.75  -67.50  1274.393920\n",
       "573   3458  1348.50       4.95  -81.70  1273.232743\n",
       "574   3459  1356.00       7.50  -83.85  1272.849320\n",
       "575   3460  1356.35       0.35  -84.70  1274.268698\n",
       "576   3461  1354.35      -2.00  -71.40  1274.009287"
      ]
     },
     "execution_count": 40,
     "metadata": {},
     "output_type": "execute_result"
    }
   ],
   "source": [
    "# Manually train ARIMA on the training data\n",
    "order = (6, 1, 6)  # You may need to adjust the order based on your data characteristics\n",
    "\n",
    "model = ARIMA(train['Close'], order=order)\n",
    "model_fit = model.fit()\n",
    "\n",
    "# Make predictions on the test data\n",
    "predictions = model_fit.predict(start=test.index[0], end=test.index[-1])\n",
    "\n",
    "df_Stocks_Close[\"arimaPred\"] = predictions\n",
    "\n",
    "# Display predictions\n",
    "df_Stocks_Close.tail()"
   ]
  },
  {
   "cell_type": "code",
   "execution_count": 41,
   "metadata": {
    "colab": {
     "base_uri": "https://localhost:8080/"
    },
    "id": "-6v8vPeH4VB-",
    "outputId": "66bf13c5-a68f-4351-a2a9-1f8af30a5a9d"
   },
   "outputs": [
    {
     "name": "stdout",
     "output_type": "stream",
     "text": [
      "81.16337946750245\n"
     ]
    }
   ],
   "source": [
    "RMSE_ARIMA = np.sqrt(mean_squared_error(test['Close'], predictions))\n",
    "print(RMSE_ARIMA)"
   ]
  },
  {
   "cell_type": "code",
   "execution_count": 42,
   "metadata": {
    "colab": {
     "base_uri": "https://localhost:8080/"
    },
    "id": "UeaJkJVVDqGs",
    "outputId": "e936be94-2338-4b3c-d0cd-8c3f14e34e9a"
   },
   "outputs": [
    {
     "name": "stdout",
     "output_type": "stream",
     "text": [
      "  modelName       RMSE\n",
      "0     ARIMA  81.163379\n"
     ]
    }
   ],
   "source": [
    "modelResult = [{\"modelName\": \"ARIMA\", 'RMSE': RMSE_ARIMA}]\n",
    "Result = pd.DataFrame(modelResult)\n",
    "print(Result)\n"
   ]
  },
  {
   "cell_type": "code",
   "execution_count": 43,
   "metadata": {
    "colab": {
     "base_uri": "https://localhost:8080/",
     "height": 1000
    },
    "id": "YV0fwAYM4U06",
    "outputId": "2a6b190c-a29b-47a2-9e23-7bd082c9792f"
   },
   "outputs": [
    {
     "data": {
      "image/png": "[encoded data removed]",
      "text/plain": [
       "<Figure size 640x480 with 1 Axes>"
      ]
     },
     "execution_count": 43,
     "metadata": {},
     "output_type": "execute_result"
    },
    {
     "data": {
      "image/png": "[encoded data removed]",
      "text/plain": [
       "<Figure size 640x480 with 1 Axes>"
      ]
     },
     "metadata": {},
     "output_type": "display_data"
    },
    {
     "data": {
      "image/png": "[encoded data removed]",
      "text/plain": [
       "<Figure size 640x480 with 1 Axes>"
      ]
     },
     "metadata": {},
     "output_type": "display_data"
    }
   ],
   "source": [
    "# Order for SARIMAX - p value using PACF\n",
    "# Order for SARIMAX - q value using ACF\n",
    "\n",
    "plot_pacf(df_Stocks_Close['Diff12'].dropna(), lags=20)\n",
    "plot_acf(df_Stocks_Close['Diff12'].dropna(), lags=20)"
   ]
  },
  {
   "cell_type": "code",
   "execution_count": null,
   "metadata": {
    "id": "Nb6u3veE5bve"
   },
   "outputs": [],
   "source": [
    "# Training SARIMAX\n",
    "model1 = SARIMAX(train['Close'], order=(6, 1, 6), seasonal_order=(1,1,6,12))\n",
    "\n",
    "model_fit1 = model1.fit()\n",
    "\n",
    "prediction1 = model_fit1.predict(start= test.index[0] , end = test.index[-1])\n",
    "\n",
    "\n",
    "df_Stocks_Close['sarimaxPred'] = prediction1"
   ]
  },
  {
   "cell_type": "code",
   "execution_count": null,
   "metadata": {
    "colab": {
     "base_uri": "https://localhost:8080/",
     "height": 206
    },
    "id": "LFwCM4E65iF1",
    "outputId": "86ecb200-88c9-458f-fc7c-61ded6cf3d56"
   },
   "outputs": [],
   "source": [
    "df_Stocks_Close.tail()"
   ]
  },
  {
   "cell_type": "code",
   "execution_count": null,
   "metadata": {
    "id": "kSSv1Atd5pkg"
   },
   "outputs": [],
   "source": [
    "RMSE_SARIMAX = np.sqrt(mean_squared_error(test['Close'], prediction1))\n",
    "SARIMAX_Result = [{\"modelName\": \"SARIMAX\", 'RMSE': RMSE_SARIMAX}]\n",
    "SARIMAX_Result = pd.DataFrame(SARIMAX_Result)\n",
    "print(SARIMAX_Result)"
   ]
  },
  {
   "cell_type": "code",
   "execution_count": null,
   "metadata": {
    "colab": {
     "base_uri": "https://localhost:8080/",
     "height": 482
    },
    "id": "G8-FQmRI-vJW",
    "outputId": "595624f9-5160-45e8-ed1e-4e77e32301ea"
   },
   "outputs": [],
   "source": [
    "#Summary:\n",
    "\n",
    "print(\"RMSE for ARIMA is \", RMSE_ARIMA)\n",
    "print(\"RMSE for SARIMAX is \", RMSE_SARIMAX)\n",
    "\n",
    "\n",
    "df_Stocks_Close.dropna()\n",
    "sns.lineplot( data = df_Stocks_Close, x = df_Stocks_Close.index , y = df_Stocks_Close['Close'], label = \"Actual\")\n",
    "sns.lineplot( data = df_Stocks_Close, x = df_Stocks_Close.index , y = df_Stocks_Close['arimaPred'],  label = \"ARIMA_Prediction\")\n",
    "sns.lineplot( data = df_Stocks_Close, x = df_Stocks_Close.index , y = df_Stocks_Close['sarimaxPred'], label = \"SARIMAX Prediction\")"
   ]
  },
  {
   "cell_type": "markdown",
   "metadata": {
    "id": "EDJfdQMCIZnL"
   },
   "source": [
    "#RandomForestRegressor\n",
    "Use RandomForestRegressor model to predict the closing price on train data and calculate RMSE"
   ]
  },
  {
   "cell_type": "code",
   "execution_count": null,
   "metadata": {
    "colab": {
     "base_uri": "https://localhost:8080/",
     "height": 608
    },
    "id": "LDjpevn8WULc",
    "outputId": "5d7d5311-cd1a-46eb-aa8d-c782ecae1b6f"
   },
   "outputs": [],
   "source": [
    "forest_reg = RandomForestRegressor(n_estimators=100, random_state=42)\n",
    "forest_reg.fit(train_prepared, df_train_label)\n",
    "\n",
    "# Make predictions on the test set\n",
    "forest_predictions = forest_reg.predict(test_prepared)\n",
    "\n",
    "# Evaluate the model\n",
    "mse = mean_squared_error(df_test_label, forest_predictions)\n",
    "rmse = np.sqrt(mse)\n",
    "\n",
    "print(f'Random Forest - RMSE : {rmse}')\n",
    "\n",
    "# Visualize actual and predicted values with two different lines\n",
    "plt.figure(figsize=(24, 12))\n",
    "plt.plot(df_test_label.values, label='Actual Closing Price', color='blue')\n",
    "plt.plot(forest_predictions, label='Predicted Closing Price', color='red')\n",
    "plt.xlabel('Data Points')\n",
    "plt.ylabel('Closing Price')\n",
    "plt.title('Actual vs Predicted Closing Price')\n",
    "plt.legend()\n",
    "plt.show()"
   ]
  },
  {
   "cell_type": "markdown",
   "metadata": {
    "id": "4wtdQjagIek3"
   },
   "source": [
    "Use gridSearchCV along with RandomForestRegressor to find best hyperparameters and model and calculate RMSE"
   ]
  },
  {
   "cell_type": "code",
   "execution_count": null,
   "metadata": {
    "colab": {
     "base_uri": "https://localhost:8080/",
     "height": 608
    },
    "id": "HCv4bAAC__1r",
    "outputId": "2e45494d-b0c0-49dd-be46-80a1a4fea7a4"
   },
   "outputs": [],
   "source": [
    "# Define the hyperparameter grid to search\n",
    "param_grid = [\n",
    "{'n_estimators': [10, 20, 30], 'max_features': [2, 4, 6, 8]},\n",
    "{'bootstrap': [False], 'n_estimators': [10, 20], 'max_features': [2, 3, 4]},\n",
    "]\n",
    "\n",
    "# Define the RandomForestRegressor\n",
    "forest_reg = RandomForestRegressor()\n",
    "\n",
    "# Create the GridSearchCV object\n",
    "grid_search = GridSearchCV(forest_reg, param_grid, cv=5,\n",
    "scoring='neg_mean_squared_error')\n",
    "\n",
    "# Fit the GridSearchCV to the data\n",
    "grid_search.fit(train_prepared, df_train_label)\n",
    "\n",
    "# Get the best estimator from the grid search\n",
    "best_rf = grid_search.best_estimator_\n",
    "\n",
    "# Make predictions on the test set using the best model\n",
    "grid_predictions = best_rf.predict(test_prepared)\n",
    "\n",
    "# Evaluate the model\n",
    "grid_mse = mean_squared_error(df_test_label, grid_predictions)\n",
    "grid_rmse = np.sqrt(grid_mse)\n",
    "print(f'Grid Search - RMSE: {grid_rmse}')\n",
    "\n",
    "# Visualize actual and predicted values with two different lines\n",
    "plt.figure(figsize=(24, 12))\n",
    "plt.plot(df_test_label.values, label='Actual Closing Price', color='blue')\n",
    "plt.plot(grid_predictions, label='Predicted Closing Price', color='red')\n",
    "plt.xlabel('Data Points')\n",
    "plt.ylabel('Closing Price')\n",
    "plt.title('Actual vs Predicted Closing Price')\n",
    "plt.legend()\n",
    "plt.show()"
   ]
  },
  {
   "cell_type": "markdown",
   "metadata": {
    "id": "tiyM2Qyfke7n"
   },
   "source": [
    "Use RandomizedSearchCV along with RandomForestRegressor to find best hyperparameters and model and calculate RMSE"
   ]
  },
  {
   "cell_type": "code",
   "execution_count": null,
   "metadata": {
    "colab": {
     "base_uri": "https://localhost:8080/",
     "height": 608
    },
    "id": "qeqvW_udb9a0",
    "outputId": "3e005e20-b0fe-405e-a404-5494e9376903"
   },
   "outputs": [],
   "source": [
    "# Define the hyperparameter distribution\n",
    "param_dist = {\n",
    "    'n_estimators': [int(x) for x in np.linspace(50, 150, num=5)],\n",
    "    'max_depth': [None] + [int(x) for x in np.linspace(10, 50, num=5)],\n",
    "    'min_samples_split': [2, 5, 10],\n",
    "    'min_samples_leaf': [1, 2, 4]\n",
    "}\n",
    "\n",
    "# Define the RandomForestRegressor\n",
    "forest_reg = RandomForestRegressor()\n",
    "\n",
    "# Create the RandomizedSearchCV object\n",
    "random_search = RandomizedSearchCV(estimator=forest_reg, param_distributions=param_dist, scoring='neg_mean_squared_error',\n",
    "                                   n_iter=10, cv=5, random_state=42)\n",
    "\n",
    "# Fit the RandomizedSearchCV to the data\n",
    "random_search.fit(train_prepared, df_train_label)\n",
    "\n",
    "# Get the best estimator from the grid search\n",
    "best_rf = random_search.best_estimator_\n",
    "\n",
    "# Make predictions on the test set using the best model\n",
    "randomCV_predictions = best_rf.predict(test_prepared)\n",
    "\n",
    "# Evaluate the model\n",
    "randomCV_mse = mean_squared_error(df_test_label, randomCV_predictions)\n",
    "randomCV_rmse = np.sqrt(randomCV_mse)\n",
    "print(f'Random Search - RMSE: {randomCV_rmse}')\n",
    "\n",
    "# Visualize actual and predicted values with two different lines\n",
    "plt.figure(figsize=(24, 12))\n",
    "plt.plot(df_test_label.values, label='Actual Closing Price', color='blue')\n",
    "plt.plot(randomCV_predictions, label='Predicted Closing Price', color='red')\n",
    "plt.xlabel('Data Points')\n",
    "plt.ylabel('Closing Price')\n",
    "plt.title('Actual vs Predicted Closing Price')\n",
    "plt.legend()\n",
    "plt.show()"
   ]
  },
  {
   "cell_type": "markdown",
   "metadata": {
    "id": "bEeY-U_1md2f"
   },
   "source": [
    "Use LinearRegression model to predict the closing price on train data and calculate RMSE"
   ]
  },
  {
   "cell_type": "code",
   "execution_count": null,
   "metadata": {
    "colab": {
     "base_uri": "https://localhost:8080/",
     "height": 608
    },
    "id": "2D0aqiTnmbQd",
    "outputId": "0bc82d49-2cdd-452e-d21c-12f4217d349d"
   },
   "outputs": [],
   "source": [
    "lin_reg = LinearRegression()\n",
    "lin_reg.fit(train_prepared, df_train_label)\n",
    "\n",
    "# Make predictions on the test set\n",
    "lin_predictions = lin_reg.predict(test_prepared)\n",
    "\n",
    "# Evaluate the model\n",
    "lin_mse = mean_squared_error(df_test_label, lin_predictions)\n",
    "lin_rmse = np.sqrt(lin_mse)\n",
    "print(f'Mean Squared Error: {lin_rmse}')\n",
    "\n",
    "\n",
    "# Visualize actual and predicted values with two different lines\n",
    "plt.figure(figsize=(24, 12))\n",
    "plt.plot(df_test_label.values, label='Actual Closing Price', color='blue')\n",
    "plt.plot(lin_predictions, label='Predicted Closing Price', color='red')\n",
    "plt.xlabel('Data Points')\n",
    "plt.ylabel('Closing Price')\n",
    "plt.title('Actual vs Predicted Closing Price')\n",
    "plt.legend()\n",
    "plt.show()"
   ]
  },
  {
   "cell_type": "markdown",
   "metadata": {
    "id": "JxjeT3rZqDO2"
   },
   "source": [
    "Use XGBoost model to predict the closing price on train data and calculate RMSE"
   ]
  },
  {
   "cell_type": "code",
   "execution_count": null,
   "metadata": {
    "colab": {
     "base_uri": "https://localhost:8080/",
     "height": 625
    },
    "id": "Od6O9N85qCun",
    "outputId": "4cb99b2c-fe9f-4659-978b-994e22536b06"
   },
   "outputs": [],
   "source": [
    "# Create an XGBoost regressor\n",
    "XGmodel = xgb.XGBRegressor(objective='reg:squarederror', random_state=42)\n",
    "XGmodel.fit(train_prepared, df_train_label)\n",
    "XG_predictions = XGmodel.predict(test_prepared)\n",
    "\n",
    "# Evaluate the model\n",
    "XG_mse = mean_squared_error(df_test_label, XG_predictions)\n",
    "rmse = np.sqrt(XG_mse)\n",
    "print(f'RMSE: {rmse}')\n",
    "\n",
    "# Visualize actual and predicted values with two different lines\n",
    "plt.figure(figsize=(24, 12))\n",
    "plt.plot(df_test_label.values, label='Actual Closing Price', color='blue')\n",
    "plt.plot(XG_predictions, label='Predicted Closing Price', color='red')\n",
    "plt.xlabel('Data Points')\n",
    "plt.ylabel('Closing Price')\n",
    "plt.title('Actual vs Predicted Closing Price')\n",
    "plt.legend()\n",
    "plt.show()\n"
   ]
  },
  {
   "cell_type": "markdown",
   "metadata": {
    "id": "c_GoNDGLrUfq"
   },
   "source": [
    "Use tensorflow model to predict the closing price on train data and calculate RMSE"
   ]
  },
  {
   "cell_type": "code",
   "execution_count": null,
   "metadata": {
    "colab": {
     "base_uri": "https://localhost:8080/",
     "height": 1000
    },
    "id": "51yQHkYCrXQe",
    "outputId": "26f13c70-ad31-4b08-8574-71720741c55e"
   },
   "outputs": [],
   "source": [
    "tf_model = Sequential()\n",
    "tf_model.add(Dense(64, input_dim=train_prepared.shape[1], activation='relu'))\n",
    "tf_model.add(Dense(32, activation='relu'))\n",
    "tf_model.add(Dense(1, activation='linear'))\n",
    "\n",
    "# Compile the model\n",
    "tf_model.compile(optimizer='adam', loss='mean_squared_error')\n",
    "\n",
    "# Train the model\n",
    "tf_model.fit(train_prepared, df_train_label, epochs=50, batch_size=32)\n",
    "\n",
    "# Make predictions on the test set\n",
    "tf_predictions = tf_model.predict(test_prepared)\n",
    "\n",
    "# Evaluate the model\n",
    "tf_mse = mean_squared_error(df_test_label, tf_predictions)\n",
    "tf_rmse = np.sqrt(tf_mse)\n",
    "print(f'RMSE - TF: {tf_rmse}')\n",
    "\n",
    "# Visualize actual and predicted values with two different lines\n",
    "plt.figure(figsize=(24, 12))\n",
    "plt.plot(df_test_label.values, label='Actual Closing Price', color='blue')\n",
    "plt.plot(tf_predictions, label='Predicted Closing Price', color='red')\n",
    "plt.xlabel('Data Points')\n",
    "plt.ylabel('Closing Price')\n",
    "plt.title('Actual vs Predicted Closing Price')\n",
    "plt.legend()\n",
    "plt.show()"
   ]
  },
  {
   "cell_type": "markdown",
   "metadata": {
    "id": "uLirMqhjC86k"
   },
   "source": [
    "Linear Regression and XGBoost models emerged as clear winner here. Hence we will conclude the project with linear regression and XGBoost models"
   ]
  },
  {
   "cell_type": "markdown",
   "metadata": {},
   "source": [
    "Linear Regression:"
   ]
  },
  {
   "cell_type": "code",
   "execution_count": null,
   "metadata": {
    "colab": {
     "base_uri": "https://localhost:8080/",
     "height": 439
    },
    "id": "Bp7PJGIlDRK0",
    "outputId": "29c9d105-a7be-44f2-91df-a6ff50965bca"
   },
   "outputs": [],
   "source": [
    "# Convert the linear prediction to panda's dataframe\n",
    "lin_df_test = pd.DataFrame(data=lin_predictions, columns=[\"Predicted_close\"])\n",
    "\n",
    "# Reset the index in strat_test_set\n",
    "test_set_reset = test_set.reset_index()\n",
    "\n",
    "# Merge based on the index\n",
    "final_lin_df = pd.merge(test_set_reset, lin_df_test, left_index=True, right_index=True, how='inner')\n",
    "\n",
    "# Merge to get market sentiment\n",
    "nifty_df_for_user = pd.merge(final_lin_df, df_combined_sentiments, on='Symbol', how='inner')\n",
    "\n",
    "# Map sentiment to action\n",
    "sentiment_to_action = {'Positive': 'Buy', 'Neutral': 'Hold', 'Negative': 'Sell'}\n",
    "\n",
    "# Create a new column 'Action' based on the 'Overall_Sentiment'\n",
    "nifty_df_for_user['Recommendation'] = nifty_df_for_user['Overall_Sentiment'].map(sentiment_to_action)\n",
    "\n",
    "# Setting back the index to Date\n",
    "nifty_df_for_user = nifty_df_for_user.set_index('Date')\n",
    "nifty_df_for_user\n"
   ]
  },
  {
   "cell_type": "markdown",
   "metadata": {},
   "source": [
    "XGBoost"
   ]
  },
  {
   "cell_type": "code",
   "execution_count": null,
   "metadata": {},
   "outputs": [],
   "source": [
    "# Convert the XGBoost prediction to panda's dataframe\n",
    "xg_df_test = pd.DataFrame(data=XG_predictions, columns=[\"Predicted_close\"])\n",
    "\n",
    "# Reset the index in strat_test_set\n",
    "test_set_reset = test_set.reset_index()\n",
    "\n",
    "# Merge based on the index\n",
    "final_xg_df = pd.merge(test_set_reset, xg_df_test, left_index=True, right_index=True, how='inner')\n",
    "\n",
    "# Merge to get market sentiment\n",
    "nifty_df_for_user = pd.merge(final_xg_df, df_combined_sentiments, on='Symbol', how='inner')\n",
    "\n",
    "# Map sentiment to action\n",
    "sentiment_to_action = {'Positive': 'Buy', 'Neutral': 'Hold', 'Negative': 'Sell'}\n",
    "\n",
    "# Create a new column 'Action' based on the 'Overall_Sentiment'\n",
    "nifty_df_for_user['Recommendation'] = nifty_df_for_user['Overall_Sentiment'].map(sentiment_to_action)\n",
    "\n",
    "# Setting back the index to Date\n",
    "nifty_df_for_user = nifty_df_for_user.set_index('Date')\n",
    "nifty_df_for_user\n"
   ]
  },
  {
   "cell_type": "code",
   "execution_count": null,
   "metadata": {},
   "outputs": [],
   "source": []
  }
 ],
 "metadata": {
  "colab": {
   "provenance": []
  },
  "kernelspec": {
   "display_name": "Python 3 (ipykernel)",
   "language": "python",
   "name": "python3"
  },
  "language_info": {
   "codemirror_mode": {
    "name": "ipython",
    "version": 3
   },
   "file_extension": ".py",
   "mimetype": "text/x-python",
   "name": "python",
   "nbconvert_exporter": "python",
   "pygments_lexer": "ipython3",
   "version": "3.10.9"
  }
 },
 "nbformat": 4,
 "nbformat_minor": 1
}
